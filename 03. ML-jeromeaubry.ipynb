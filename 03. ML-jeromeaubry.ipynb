{
 "cells": [
  {
   "cell_type": "markdown",
   "id": "d3486189",
   "metadata": {},
   "source": [
    "## 3) First Machine Learning Model"
   ]
  },
  {
   "cell_type": "markdown",
   "id": "be434552",
   "metadata": {},
   "source": [
    "**The table of contents**:\n",
    "<br> - 3.1 Import libraries\n",
    "<br> - 3.2 General Functions for ML Models\n",
    "<br> - 3.4 Cost Functions\n",
    "<br> - 3.5 Split Train/Test Data\n",
    "<br> - 3.6 Baseline for the Models\n",
    "<br> - 3.7 Data Preparation\n",
    "<br> - 3.8 PCA\n",
    "<br> - 3.9 Linear Regression Method:\n",
    "> -3.9.1  Simple Method: Linear Regression\n",
    "<br> -3.9.1  Ridge Regression: alpha Grid Optimization\n",
    "\n",
    "<br> 3.10 - K-NN --> **See other file: 03.1.Knn-ML-jeromeaubry.ipynb**\n",
    "<br> 3.11 - Non-Linear Approach: SVR: Supervised Vector Machine Approach for Regression\n",
    "<br> 3.12 - Non Linear Approach: Random Forest \n",
    "<br> 3.13 - Gradient Boosting\n",
    "<br> 3.14 - Save Results\n"
   ]
  },
  {
   "cell_type": "markdown",
   "id": "22943c30",
   "metadata": {},
   "source": [
    "### 3.1. Import Libraries"
   ]
  },
  {
   "cell_type": "code",
   "execution_count": 12,
   "id": "a2d591c9",
   "metadata": {},
   "outputs": [],
   "source": [
    "# Import librairies\n",
    "import os\n",
    "import pandas as pd\n",
    "import numpy as np\n",
    "\n",
    "#import matplotlib\n",
    "import matplotlib.pyplot as plt\n",
    "import seaborn as sns\n",
    "\n",
    "from scipy.stats import randint"
   ]
  },
  {
   "cell_type": "code",
   "execution_count": 13,
   "id": "7ca4dce8",
   "metadata": {},
   "outputs": [],
   "source": [
    "# Import the necessary librairires for model fitting.\n",
    "\n",
    "from sklearn.feature_selection import SelectKBest,f_regression\n",
    "from sklearn.metrics import r2_score \n",
    "from sklearn.model_selection import train_test_split\n",
    "from sklearn.preprocessing import StandardScaler\n",
    "from sklearn.pipeline import Pipeline\n",
    "from sklearn.model_selection import GridSearchCV, RandomizedSearchCV\n",
    "#from tune_sklearn import TuneSearchCV\n",
    "from sklearn.linear_model import LinearRegression, Ridge\n",
    "\n",
    "\n",
    "import warnings\n",
    "from scipy.linalg import LinAlgWarning"
   ]
  },
  {
   "cell_type": "code",
   "execution_count": 14,
   "id": "d376b64b",
   "metadata": {},
   "outputs": [],
   "source": [
    "# Take seaborn as preference graphic interface\n",
    "sns.set()"
   ]
  },
  {
   "cell_type": "code",
   "execution_count": 15,
   "id": "bc0edea8",
   "metadata": {},
   "outputs": [
    {
     "data": {
      "text/plain": [
       "'/Users/jeromeaubry/Chap5.1-Proposal-Capstone/Data/US_Pesticide/2015PDPDatabase/SaveModels'"
      ]
     },
     "execution_count": 15,
     "metadata": {},
     "output_type": "execute_result"
    }
   ],
   "source": [
    "# Load Main data & Save Models in the following folders\n",
    "path_main_save = '/Users/jeromeaubry/Chap5.1-Proposal-Capstone/Data/'\n",
    "path_secondary_save = 'US_Pesticide/2015PDPDatabase/SaveModels/'\n",
    "\n",
    "path_save = os.path.join(path_main_save,path_secondary_save)\n",
    "os.chdir(path_save)\n",
    "os.getcwd()"
   ]
  },
  {
   "cell_type": "markdown",
   "id": "7bb72f8d",
   "metadata": {},
   "source": [
    "### 3.2 General Functions for ML Models"
   ]
  },
  {
   "cell_type": "code",
   "execution_count": 16,
   "id": "46b7bdfc",
   "metadata": {},
   "outputs": [],
   "source": [
    "def sortout_data(parameter, grid, grid_search, log=False):\n",
    "\n",
    "    #Prepare the dataframe based on cv_results._keys()\n",
    "    \n",
    "    items_col = ['mean_test_neg_mean_squared_error','std_test_neg_mean_squared_error',\n",
    "                 'mean_train_neg_mean_squared_error','std_train_neg_mean_squared_error',\n",
    "                'mean_test_r2', 'std_test_r2','mean_train_r2','std_train_r2']\n",
    "\n",
    "    cols = []\n",
    "\n",
    "    for item in items_col:\n",
    "        if item not in cols:\n",
    "            cols.append(item)\n",
    "    \n",
    "    # Incorporate the paramaters from the grid to the cv_results dataframe\n",
    "    \n",
    "    col_grid = list(grid.keys()) \n",
    "    col_grid = ['param_' + c for c in col_grid] # Add 'param_'\n",
    "    col_grid = sorted(col_grid)\n",
    "    cols.extend(col_grid) \n",
    "    cv_results = pd.DataFrame(grid_search.cv_results_)\n",
    "    cv_results = cv_results.loc[:, cols]\n",
    "    cv_results = cv_results.loc[:,::-1] # Reverse the columns\n",
    "    cv_results.columns = cv_results.columns.str.replace('neg_mean_squared_error','MSE')#rename the columns\n",
    "    \n",
    "    # Grid/RandomizeSearch displays negative values due to maximize per definition, when minimize negative values\n",
    "    cv_results[['mean_train_MSE','mean_test_MSE']] = cv_results[['mean_train_MSE','mean_test_MSE']].abs() #negative value into positive values\n",
    "    \n",
    "    for item in cv_results.columns: #Extract the columns name for the parameter\n",
    "        if ('param' in item):\n",
    "             # For example from param_Ridge__alpha: alpha; from Ridge__alpha:alpha check alpha=alpha\n",
    "                if (item.split('__')[1] == parameter.split('__')[1]): \n",
    "                    item_param = item\n",
    "        \n",
    "    grouped = cv_results.groupby(item_param) # Sort out the data based on parameters\n",
    "\n",
    "     # Train data -R2/MSE\n",
    "    mean_train_r2 = grouped.mean_train_r2.mean()\n",
    "    std_train_r2 = grouped.std_train_r2.mean()\n",
    "    mean_train_MSE = grouped.mean_train_MSE.mean()\n",
    "    std_train_MSE = grouped.std_train_MSE.mean()\n",
    "\n",
    "    #Test data -R2/MSE\n",
    "    mean_test_r2 = grouped.mean_test_r2.mean()\n",
    "    std_test_r2 = grouped.std_test_r2.mean()\n",
    "    mean_test_MSE = grouped.mean_test_MSE.mean()\n",
    "    std_test_MSE = grouped.std_test_MSE.mean()\n",
    "    \n",
    "    param = mean_test_r2.index.values # Gather the parameters for plotting\n",
    "    best_param= mean_test_r2.idxmax() # Extract the best_parameter for plotting\n",
    "\n",
    "    best_output = grouped.get_group(best_param) # Take the best values from the dataset based on best param\n",
    "    \n",
    "    fig, ax = plt.subplots(nrows=1, ncols=2, figsize=(16,6))\n",
    "    \n",
    "    # Plot R2/MSE vs parameter\n",
    "    if log==True:\n",
    "        # Logarithmn scale\n",
    "        ax[0].semilogx(param, mean_train_r2, color='blue', alpha=0.5, label='Train')\n",
    "        ax[0].semilogx(param, mean_test_r2, color='orange', alpha=0.5, label='Validation')\n",
    "        x_axis = 'log({})'.format(parameter)\n",
    "       \n",
    "        ax[1].semilogx(param, mean_train_MSE, color='blue', alpha=0.5, label='Train')\n",
    "        ax[1].semilogx(param, mean_test_MSE, color='orange', alpha=0.5, label='Validation')\n",
    "        \n",
    "    \n",
    "    else: # Not a logarithmn scale\n",
    "        ax[0].plot(param, mean_train_r2, alpha=.5, color='blue', label='Train')\n",
    "        ax[0].plot(param, mean_test_r2, alpha=.5, color='red', label='Validation')\n",
    "        x_axis = '{}'.format(parameter)\n",
    "        \n",
    "        ax[1].plot(param, mean_train_MSE, alpha=.5, color='blue', label='Train')\n",
    "        ax[1].plot(param, mean_test_MSE, alpha=.5, color='red', label='Validation')\n",
    "    \n",
    "\n",
    "    \n",
    "    # Plot R2\n",
    "    ax[0].fill_between(param, mean_train_r2 - std_train_r2,  mean_train_r2 + std_train_r2, alpha=0.5)\n",
    "    ax[0].fill_between(param, mean_test_r2 - std_test_r2,  mean_test_r2 + std_test_r2, alpha=0.5)\n",
    "    ax[0].scatter(best_param, mean_test_r2.max(), marker='x', color='red', zorder=10, label='Max_Validation')\n",
    "    ax[0].legend()\n",
    "    ax[0].set_xlabel(x_axis)\n",
    "    ax[0].set_ylabel('$R^2$')\n",
    "    ax[0].set_title('best valid accuracy with {}={:.0f} \\n gives  test_r2 = {:.3f} ± {:.3f} - mean/std'.\n",
    "                  format(parameter,\n",
    "                         grid_search.best_params_[parameter], \n",
    "                         mean_test_r2[best_param],\n",
    "                         std_test_r2[best_param]))\n",
    "\n",
    "    \n",
    "    # Plot MSE\n",
    "    ax[1].fill_between(param, mean_train_MSE - std_train_MSE,  mean_train_MSE + std_train_MSE, alpha=0.5)\n",
    "    ax[1].fill_between(param, mean_test_MSE- std_test_MSE,  mean_test_MSE + std_test_MSE, alpha=0.5)\n",
    "    ax[1].scatter(best_param, mean_test_MSE.min(), marker='x', color='red', zorder=10, label='Max_Validation')\n",
    "    ax[1].legend()\n",
    "    ax[1].set_xlabel(x_axis)\n",
    "    ax[1].set_ylabel('$MSE$')\n",
    "    ax[1].set_title('best MSE with {}={:.0f} \\n gives  test_MSE = {:.3f} ± {:.3f} - mean/std'.\n",
    "                  format(parameter,\n",
    "                         grid_search.best_params_[parameter],\n",
    "                         mean_test_MSE[best_param],\n",
    "                         std_test_MSE[best_param]))\n",
    "\n",
    "\n",
    "    plt.subplots_adjust(wspace=0.2, hspace=0.2) \n",
    "    plt.show()\n",
    "    \n",
    "    best_output.columns = cv_results.columns.str.replace('test','validation')#rename the columns\n",
    "    best_output['Model'] = parameter.split('__')[0] #Retrieve the name of the model\n",
    "    \n",
    "\n",
    "    return best_output"
   ]
  },
  {
   "cell_type": "code",
   "execution_count": 17,
   "id": "1ac1961e",
   "metadata": {},
   "outputs": [],
   "source": [
    "def sortout_params(grid, grid_search):\n",
    "    \n",
    "    print('Best parameters: {}'.format(grid_search.best_params_))\n",
    "    print('-'*50)\n",
    "    print('Best estimators: {}'. format(grid_search.best_estimator_))\n",
    "    print('-'*50)\n",
    "    print('Best score: {}'. format(grid_search.best_score_))\n",
    "    print('-'*50)\n",
    "    params = sorted(list(grid.keys())) #List the parameters from the grid for feeding the parameter from sortout_data function\n",
    "    \n",
    "    return params"
   ]
  },
  {
   "cell_type": "markdown",
   "id": "601a5882",
   "metadata": {},
   "source": [
    "### 3.3 Load the data "
   ]
  },
  {
   "cell_type": "code",
   "execution_count": 18,
   "id": "1af32e43",
   "metadata": {},
   "outputs": [
    {
     "name": "stdout",
     "output_type": "stream",
     "text": [
      "['data', 'target', 'labels']\n"
     ]
    }
   ],
   "source": [
    "# Load the data\n",
    "#with np.load('data_pesticides_binarycoding.npz', allow_pickle=True) as npz_data:\n",
    "with np.load('data_pesticides_option3_EDA_1.npz', allow_pickle=True) as npz_data:\n",
    "    print(list(npz_data.keys()))\n",
    "    df = dict(npz_data.items())\n",
    "    \n",
    "# option 1: Sample data: 38751 column 'concen' and take only non zeros values ()  ---> Proposal\n",
    "# option 2: All the data 2M (100% of the dataset, 98.5% 0-values, 1.5% non-zeros values) ---> EDA \n",
    "# option 3: Sample data: around 100'000 - 5% of the dataset (mix zeros and non zeros in same ratio than option2 )---> ML Models"
   ]
  },
  {
   "cell_type": "code",
   "execution_count": 19,
   "id": "af2534dd",
   "metadata": {},
   "outputs": [],
   "source": [
    "# Define X and y values\n",
    "X = df['data']\n",
    "y = df['target']\n",
    "labels = df['labels']"
   ]
  },
  {
   "cell_type": "markdown",
   "id": "4423bc30",
   "metadata": {},
   "source": [
    "### 3.4 Cost Functions"
   ]
  },
  {
   "cell_type": "code",
   "execution_count": 20,
   "id": "7247f89e",
   "metadata": {},
   "outputs": [],
   "source": [
    "def MSE(y,y_pred):\n",
    "    return np.mean(np.square(y-y_pred))"
   ]
  },
  {
   "cell_type": "code",
   "execution_count": 21,
   "id": "c983a3e5",
   "metadata": {},
   "outputs": [],
   "source": [
    "# Define Mean Absokute Error \n",
    "def MAE (y,y_pred):\n",
    "    return np.mean(np.absolute(y-y_pred))"
   ]
  },
  {
   "cell_type": "code",
   "execution_count": 22,
   "id": "d0f0e8a2",
   "metadata": {},
   "outputs": [],
   "source": [
    "def RSS (y,y_pred):\n",
    "    return np.sum(np.square(y-y_pred))"
   ]
  },
  {
   "cell_type": "code",
   "execution_count": 23,
   "id": "6239932e",
   "metadata": {},
   "outputs": [],
   "source": [
    "def R2 (y,y_pred):\n",
    "    return r2_score(y,y_pred)"
   ]
  },
  {
   "cell_type": "markdown",
   "id": "32be832e",
   "metadata": {},
   "source": [
    "> **Remarks**:\n",
    "<br> - The chosen cost function is MSE: Mean Square Error as being a metrics given enough statistical information\n",
    "<br> - Beside MSE; R2 will also be computed but as information only"
   ]
  },
  {
   "cell_type": "markdown",
   "id": "756c98f7",
   "metadata": {},
   "source": [
    "### 3.5 Split Train/Test Data"
   ]
  },
  {
   "cell_type": "code",
   "execution_count": 24,
   "id": "45a30627",
   "metadata": {},
   "outputs": [],
   "source": [
    "# Convert X as float \n",
    "X = X.astype(float)"
   ]
  },
  {
   "cell_type": "code",
   "execution_count": 25,
   "id": "28b2a47b",
   "metadata": {},
   "outputs": [],
   "source": [
    "# Split the data train/test for the simple model 70/30% train/test\n",
    "X_tr, X_te, y_tr, y_te = train_test_split(X,y, test_size=0.3, random_state=0)"
   ]
  },
  {
   "cell_type": "code",
   "execution_count": 26,
   "id": "f88e4d23",
   "metadata": {},
   "outputs": [
    {
     "name": "stdout",
     "output_type": "stream",
     "text": [
      "--------------------------------------------------------------------------------\n",
      "Dimension of the train data: X_tr=(81431, 85); y_tr=(81431,)\n",
      "Dimension of the test data: X_te=(34899, 85); y_te=(34899,)\n",
      "--------------------------------------------------------------------------------\n",
      "Data type for the train data: X_tr=float64; y_tr=float64\n",
      "Data type for the test data: X_te=float64; y_te=float64\n",
      "--------------------------------------------------------------------------------\n"
     ]
    }
   ],
   "source": [
    "# Check out the dimension of the \n",
    "\n",
    "print('-'*80)\n",
    "print('Dimension of the train data: X_tr={}; y_tr={}'.format(X_tr.shape, y_tr.shape))\n",
    "print('Dimension of the test data: X_te={}; y_te={}'.format(X_te.shape, y_te.shape))\n",
    "print('-'*80)\n",
    "print('Data type for the train data: X_tr={}; y_tr={}'.format(X_tr.dtype, y_tr.dtype))\n",
    "print('Data type for the test data: X_te={}; y_te={}'.format(X_te.dtype, y_te.dtype))\n",
    "print('-'*80)"
   ]
  },
  {
   "cell_type": "code",
   "execution_count": 27,
   "id": "8d7bf139",
   "metadata": {},
   "outputs": [
    {
     "name": "stdout",
     "output_type": "stream",
     "text": [
      "Number of 0s value in train data: 80097 and in percent of the dataset 98.36%\n",
      "Number of non-0s value in train data: 1334 and in percent of the dataset 1.64%\n"
     ]
    }
   ],
   "source": [
    "# The rumber of 0s and non-0s values express in % per column of the train dataset\n",
    "\n",
    "y_tr_0s_vals = np.count_nonzero(y_tr==0)\n",
    "y_tr_no0s_vals = np.count_nonzero(y_tr!=0)\n",
    "\n",
    "print('Number of 0s value in train data: {} and in percent of the dataset {:.2f}%'. \n",
    "      format(y_tr_0s_vals, 100*y_tr_0s_vals/len(y_tr)))\n",
    "print('Number of non-0s value in train data: {} and in percent of the dataset {:.2f}%'. \n",
    "      format(y_tr_no0s_vals, 100*y_tr_no0s_vals/len(y_tr)))\n"
   ]
  },
  {
   "cell_type": "code",
   "execution_count": 28,
   "id": "de25e966",
   "metadata": {},
   "outputs": [
    {
     "name": "stdout",
     "output_type": "stream",
     "text": [
      "Number of 0s value in test data: 34310 and in percent of the dataset 98.31%\n",
      "Number of non-0s value in test data: 589 and in percent of the dataset 1.69%\n"
     ]
    }
   ],
   "source": [
    "# The rumber of 0s and non-0s values express in % per column of the test dataset\n",
    "\n",
    "y_te_0s_vals = np.count_nonzero(y_te==0)\n",
    "y_te_no0s_vals = np.count_nonzero(y_te!=0)\n",
    "\n",
    "print('Number of 0s value in test data: {} and in percent of the dataset {:.2f}%'. \n",
    "      format(y_te_0s_vals, 100*y_te_0s_vals/len(y_te)))\n",
    "print('Number of non-0s value in test data: {} and in percent of the dataset {:.2f}%'. \n",
    "      format(y_te_no0s_vals, 100*y_te_no0s_vals/len(y_te)))"
   ]
  },
  {
   "cell_type": "markdown",
   "id": "3d994968",
   "metadata": {},
   "source": [
    "> **Remarks**:\n",
    "<br> - Sample n=5% -option3- expects to find same ratio for the test/train dataset, i.e, 1.66% non zeros values. If it is the case, it means that the full dataset -option 2- can be replaced by option3 for the computations of the ML as being less time consuming.\n",
    "<br> - Option 1 has been used for the first pre-models validation giving the best results since dealing with non zero values but it is not representative of the the full data set."
   ]
  },
  {
   "cell_type": "markdown",
   "id": "9c79786d",
   "metadata": {},
   "source": [
    "### 3.6 Baseline for the Models"
   ]
  },
  {
   "cell_type": "code",
   "execution_count": 18,
   "id": "8a86bcf5",
   "metadata": {},
   "outputs": [
    {
     "name": "stdout",
     "output_type": "stream",
     "text": [
      "--------------------------------------------------\n",
      "Baseline MSE: 0.006619\n",
      "--------------------------------------------------\n"
     ]
    }
   ],
   "source": [
    "# MSE as baseline for the models \n",
    "\n",
    "y_pred = np.mean(y_tr)\n",
    "\n",
    "#MAE_baseline = MAE(y_te, y_pred)\n",
    "MSE_baseline = MSE(y_te, y_pred)\n",
    "#rss_baseline = RSS(y_te,y_pred)\n",
    "\n",
    "print('-'*50)\n",
    "#print('Baseline MAE: {:.2f} in ppm'.format(MAE_baseline))\n",
    "print('Baseline MSE: {:.6f}'.format(MSE_baseline))\n",
    "#print('Baseline R2: {:.2f}'.format(rss_baseline))\n",
    "print('-'*50)"
   ]
  },
  {
   "cell_type": "code",
   "execution_count": 19,
   "id": "ca6c5db4",
   "metadata": {},
   "outputs": [
    {
     "data": {
      "text/html": [
       "<div>\n",
       "<style scoped>\n",
       "    .dataframe tbody tr th:only-of-type {\n",
       "        vertical-align: middle;\n",
       "    }\n",
       "\n",
       "    .dataframe tbody tr th {\n",
       "        vertical-align: top;\n",
       "    }\n",
       "\n",
       "    .dataframe thead th {\n",
       "        text-align: right;\n",
       "    }\n",
       "</style>\n",
       "<table border=\"1\" class=\"dataframe\">\n",
       "  <thead>\n",
       "    <tr style=\"text-align: right;\">\n",
       "      <th></th>\n",
       "      <th>Model</th>\n",
       "      <th>mean_test_MSE</th>\n",
       "    </tr>\n",
       "  </thead>\n",
       "  <tbody>\n",
       "    <tr>\n",
       "      <th>0</th>\n",
       "      <td>Baseline</td>\n",
       "      <td>0.006619</td>\n",
       "    </tr>\n",
       "  </tbody>\n",
       "</table>\n",
       "</div>"
      ],
      "text/plain": [
       "      Model  mean_test_MSE\n",
       "0  Baseline       0.006619"
      ]
     },
     "execution_count": 19,
     "metadata": {},
     "output_type": "execute_result"
    }
   ],
   "source": [
    "results_baseline = pd.DataFrame({'Model': 'Baseline',\n",
    "                                'mean_test_MSE': [MSE_baseline]})\n",
    "results_baseline"
   ]
  },
  {
   "cell_type": "markdown",
   "id": "1a921e3a",
   "metadata": {},
   "source": [
    "> **Strategies**:\n",
    "<br> - The chosen metrics for going through the different regression models is MSE - Mean Square Error- by also displaying the R2 results for comparison purposes.\n",
    "<br> - The simplest choice for the baseline is the average of the training data to provide a first MSE result between prediction and test data. Since the 0s values represent almost 99% of the values, the MSE is very low.\n",
    "<br> - **It was not possible to run with the complete dataset for the ML models due to its size**; the EDA has been done with the full dataset as per option2, while the ML models section is done with a data sampling of 5% -option 3- of the full data keeping the same ratio of zeros and non-zeros values as the statistics shows it in rows 27 28.\n",
    "<br> - In addition, a comparison was made for the EDA between the complete dataset and the 5% data sampling showing the same trend of results leading to conclude to replace the full data with the sampling option is a reasonable approach for the ML calculations.\n",
    "<br> - The investigation starts with a PCA analysis, if possible, to reduce the dimension or not based on the variance ratio.\n",
    "<br> - Then, a simple linear regression is applied, followed by a Ridge regression to check if the dataset could be linear or not and if we improve the analysis by tuning the regularization parameter of the Ridge regression.\n",
    "<br> - Then, the linear approach is cross-checked with another linear algo, such as knn, although it was very time-consuming to run it.\n",
    "<br> - The next step consists of checking with a non-linear approach such as SVR using a non-linear kernel - kbf - to see if we can improve the results.\n",
    "<br> - Finally, the last part is to check if the model on the dataset overfits or not by considering a random approach such as random forest and by consolidating the results with an iterative approach such as the gradient boosting method.\n",
    "<br> - For speeding up the process, all the models are optimized with grid search `RandomizedGridSearch` using random selection based on r2, MSE optimization, and refit on r2 for the maximization:  https://scikit-learn.org/stable/modules/model_evaluation.html.  \n",
    "<br> - All the models are normalized via the `Standardscale` function."
   ]
  },
  {
   "cell_type": "markdown",
   "id": "97dfec63",
   "metadata": {},
   "source": [
    "### 3.7 Data Preparation"
   ]
  },
  {
   "cell_type": "code",
   "execution_count": 31,
   "id": "a5ec1bdf",
   "metadata": {},
   "outputs": [],
   "source": [
    "# Scale the data between 0 and 1 for the pipeline models\n",
    "scale = StandardScaler()"
   ]
  },
  {
   "cell_type": "code",
   "execution_count": 32,
   "id": "e64692f0",
   "metadata": {},
   "outputs": [],
   "source": [
    "# Use RandomState for reproducibility / not necessary could be random_state=1 for example, needs a value for reproducibility\n",
    "random_state = np.random.RandomState(42)"
   ]
  },
  {
   "cell_type": "markdown",
   "id": "8e71aab5",
   "metadata": {},
   "source": [
    "### 3.8 PCA Principal Component Analysis"
   ]
  },
  {
   "cell_type": "code",
   "execution_count": 22,
   "id": "4371604c",
   "metadata": {},
   "outputs": [],
   "source": [
    "from sklearn.decomposition import PCA"
   ]
  },
  {
   "cell_type": "code",
   "execution_count": 23,
   "id": "3a4f93ef",
   "metadata": {},
   "outputs": [],
   "source": [
    "scale = StandardScaler()\n",
    "X_scaled = scale.fit_transform(X)\n",
    "\n",
    "X_tr_scaled = scale.fit_transform(X_tr)"
   ]
  },
  {
   "cell_type": "code",
   "execution_count": 24,
   "id": "a9c35604",
   "metadata": {},
   "outputs": [],
   "source": [
    "pca = PCA(n_components=2)\n",
    "X2D = pca.fit_transform(X_tr_scaled)"
   ]
  },
  {
   "cell_type": "code",
   "execution_count": 25,
   "id": "d43edb91",
   "metadata": {},
   "outputs": [
    {
     "data": {
      "text/plain": [
       "array([0.03812113, 0.03528068])"
      ]
     },
     "execution_count": 25,
     "metadata": {},
     "output_type": "execute_result"
    }
   ],
   "source": [
    "pca.explained_variance_ratio_"
   ]
  },
  {
   "cell_type": "code",
   "execution_count": 26,
   "id": "5fd2c18e",
   "metadata": {},
   "outputs": [],
   "source": [
    "pca = PCA(n_components=0.95)\n",
    "X_reduced = pca.fit_transform(X_tr_scaled)"
   ]
  },
  {
   "cell_type": "code",
   "execution_count": 27,
   "id": "6a53333b",
   "metadata": {},
   "outputs": [
    {
     "name": "stdout",
     "output_type": "stream",
     "text": [
      "66\n"
     ]
    }
   ],
   "source": [
    "print(len(pca.explained_variance_ratio_))"
   ]
  },
  {
   "cell_type": "code",
   "execution_count": 28,
   "id": "9b7413a1",
   "metadata": {},
   "outputs": [
    {
     "data": {
      "text/plain": [
       "(85,)"
      ]
     },
     "execution_count": 28,
     "metadata": {},
     "output_type": "execute_result"
    }
   ],
   "source": [
    "# no axis\n",
    "pca_all = PCA(n_components=None)\n",
    "pca_all.fit(X_scaled)\n",
    "var_all = pca_all.explained_variance_ratio_\n",
    "var_all.shape"
   ]
  },
  {
   "cell_type": "code",
   "execution_count": 29,
   "id": "f8fe7521",
   "metadata": {},
   "outputs": [
    {
     "data": {
      "image/png": "[encoded data removed]",
      "text/plain": [
       "<Figure size 1152x576 with 1 Axes>"
      ]
     },
     "metadata": {},
     "output_type": "display_data"
    }
   ],
   "source": [
    "'''\n",
    "Spree plots considering the first 50 PCA components\n",
    "'''\n",
    "N= 50 #50 first components \n",
    "\n",
    "fig=plt.figure(figsize=(16,8))\n",
    "\n",
    "xcor = np.arange(1 , len(var_all[0:N])+1)\n",
    "plt.bar(xcor,var_all[0:N],label='variance')\n",
    "plt.xticks(xcor,rotation=90)\n",
    "\n",
    "\n",
    "var_cumulative = np.cumsum(var_all[0:N])\n",
    "\n",
    "plt.step(\n",
    "    xcor + 0.5,\n",
    "    var_cumulative,\n",
    "    label='variance_cumulative'\n",
    ")\n",
    "for i in range(0,11,1):\n",
    "    i/=10\n",
    "    plt.axhline(y=i, color='r', linestyle='--')\n",
    "\n",
    "plt.xticks(np.arange(0,52,2))\n",
    "plt.yticks(np.arange(0,1.1,0.1))\n",
    "\n",
    "plt.title('PCA of the train data associated with the Spree curve', fontsize=22)\n",
    "plt.xlabel('Principal component', fontsize=16)\n",
    "plt.ylabel('Variance associated to component', fontsize=16)\n",
    "plt.legend(fontsize=20, loc='upper left')\n",
    "\n",
    "\n",
    "plt.xticks(fontsize=16)\n",
    "plt.yticks(fontsize=15)\n",
    "\n",
    "\n",
    "plt.show()"
   ]
  },
  {
   "cell_type": "code",
   "execution_count": 30,
   "id": "d981de92",
   "metadata": {},
   "outputs": [
    {
     "data": {
      "text/html": [
       "<div>\n",
       "<style scoped>\n",
       "    .dataframe tbody tr th:only-of-type {\n",
       "        vertical-align: middle;\n",
       "    }\n",
       "\n",
       "    .dataframe tbody tr th {\n",
       "        vertical-align: top;\n",
       "    }\n",
       "\n",
       "    .dataframe thead th {\n",
       "        text-align: right;\n",
       "    }\n",
       "</style>\n",
       "<table border=\"1\" class=\"dataframe\">\n",
       "  <thead>\n",
       "    <tr style=\"text-align: right;\">\n",
       "      <th></th>\n",
       "      <th>Number of PCA components</th>\n",
       "    </tr>\n",
       "    <tr>\n",
       "      <th>variance in %</th>\n",
       "      <th></th>\n",
       "    </tr>\n",
       "  </thead>\n",
       "  <tbody>\n",
       "    <tr>\n",
       "      <th>10</th>\n",
       "      <td>3</td>\n",
       "    </tr>\n",
       "    <tr>\n",
       "      <th>20</th>\n",
       "      <td>7</td>\n",
       "    </tr>\n",
       "    <tr>\n",
       "      <th>30</th>\n",
       "      <td>12</td>\n",
       "    </tr>\n",
       "    <tr>\n",
       "      <th>40</th>\n",
       "      <td>18</td>\n",
       "    </tr>\n",
       "    <tr>\n",
       "      <th>50</th>\n",
       "      <td>26</td>\n",
       "    </tr>\n",
       "    <tr>\n",
       "      <th>60</th>\n",
       "      <td>34</td>\n",
       "    </tr>\n",
       "    <tr>\n",
       "      <th>70</th>\n",
       "      <td>42</td>\n",
       "    </tr>\n",
       "    <tr>\n",
       "      <th>80</th>\n",
       "      <td>50</td>\n",
       "    </tr>\n",
       "    <tr>\n",
       "      <th>90</th>\n",
       "      <td>60</td>\n",
       "    </tr>\n",
       "    <tr>\n",
       "      <th>100</th>\n",
       "      <td>76</td>\n",
       "    </tr>\n",
       "  </tbody>\n",
       "</table>\n",
       "</div>"
      ],
      "text/plain": [
       "               Number of PCA components\n",
       "variance in %                          \n",
       "10                                    3\n",
       "20                                    7\n",
       "30                                   12\n",
       "40                                   18\n",
       "50                                   26\n",
       "60                                   34\n",
       "70                                   42\n",
       "80                                   50\n",
       "90                                   60\n",
       "100                                  76"
      ]
     },
     "execution_count": 30,
     "metadata": {},
     "output_type": "execute_result"
    }
   ],
   "source": [
    "'''\n",
    "How many PCA components explain 10%, 20%, …, 90% and 100% of the variance\n",
    "'''\n",
    "\n",
    "variance_percent = [x for x in range(10, 110, 10)]\n",
    "var_cumulative_all = np.cumsum(var_all)\n",
    "\n",
    "nearest_value_cumulative = []\n",
    "\n",
    "for i in range(1, 11, 1):\n",
    "    i/=10\n",
    "    \n",
    "    #retrieve the index from the nearest variance value\n",
    "    idx_all = np.abs(var_cumulative_all-i).argmin()+1\n",
    "    nearest_value_cumulative.append(idx_all)\n",
    "\n",
    "nearest_value_cumulative = pd.DataFrame({\n",
    "    'variance in %' : variance_percent,\n",
    "    'Number of PCA components': nearest_value_cumulative\n",
    "    \n",
    "})\n",
    "\n",
    "nearest_value_cumulative.set_index('variance in %')"
   ]
  },
  {
   "cell_type": "markdown",
   "id": "b427b378",
   "metadata": {},
   "source": [
    "> **Remarks**:\n",
    "<br> - The data projection onto orthogonal axes (hyperplans) for displaying the variance as function of the number of dimensions shows that most of the dimension must be kept for the present training data for retrieving enough variance.\n",
    "<br> - To reduce the dimension down to 2 or 3 would impact too much the variance results and the results of the ML models. It has been decided to keep the data as it is and not used the PCA dimension reduction for the ML models."
   ]
  },
  {
   "cell_type": "markdown",
   "id": "687e1103",
   "metadata": {},
   "source": [
    "### 3.9 Linear Regression Method"
   ]
  },
  {
   "cell_type": "markdown",
   "id": "fce2327a",
   "metadata": {},
   "source": [
    "#### 3.9.1 Simple Method: Linear Regression"
   ]
  },
  {
   "cell_type": "code",
   "execution_count": 31,
   "id": "14f62d88",
   "metadata": {},
   "outputs": [
    {
     "name": "stdout",
     "output_type": "stream",
     "text": [
      "The train_r2 for lr based on best parameter from grid search 0.0109\n",
      "The test_r2 for lr based on best parameter from grid search: 0.0073\n",
      "The test_MSE for lr based on best parameter from grid search: 0.006570\n"
     ]
    }
   ],
   "source": [
    "# Simple Linear Regression\n",
    "pipe_lr = Pipeline ([\n",
    "    ('scale', scale),\n",
    "    ('lr',LinearRegression())\n",
    "])\n",
    "\n",
    "pipe_lr.fit(X_tr,y_tr)\n",
    "\n",
    "# Retrieve the accuracy from the simple model\n",
    "y_pred_lr = pipe_lr.predict(X_te)\n",
    "#y_pred_lr = np.maximum(y_pred_lr,0)\n",
    "\n",
    "\n",
    "print('The train_r2 for lr based on best parameter from grid search {:.4f}'.format(pipe_lr.score(X_tr, y_tr)))\n",
    "print('The test_r2 for lr based on best parameter from grid search: {:.4f}'.format(pipe_lr.score(X_te, y_te)))\n",
    "print('The test_MSE for lr based on best parameter from grid search: {:.6f}'.format(MSE(y_te, y_pred_lr)))"
   ]
  },
  {
   "cell_type": "code",
   "execution_count": 32,
   "id": "fc85a3e2",
   "metadata": {},
   "outputs": [
    {
     "data": {
      "text/html": [
       "<div>\n",
       "<style scoped>\n",
       "    .dataframe tbody tr th:only-of-type {\n",
       "        vertical-align: middle;\n",
       "    }\n",
       "\n",
       "    .dataframe tbody tr th {\n",
       "        vertical-align: top;\n",
       "    }\n",
       "\n",
       "    .dataframe thead th {\n",
       "        text-align: right;\n",
       "    }\n",
       "</style>\n",
       "<table border=\"1\" class=\"dataframe\">\n",
       "  <thead>\n",
       "    <tr style=\"text-align: right;\">\n",
       "      <th></th>\n",
       "      <th>Model</th>\n",
       "      <th>mean_train_r2</th>\n",
       "      <th>mean_test_r2</th>\n",
       "      <th>mean_test_MSE</th>\n",
       "    </tr>\n",
       "  </thead>\n",
       "  <tbody>\n",
       "    <tr>\n",
       "      <th>0</th>\n",
       "      <td>lr</td>\n",
       "      <td>0.010949</td>\n",
       "      <td>0.007305</td>\n",
       "      <td>0.00657</td>\n",
       "    </tr>\n",
       "  </tbody>\n",
       "</table>\n",
       "</div>"
      ],
      "text/plain": [
       "  Model  mean_train_r2  mean_test_r2  mean_test_MSE\n",
       "0    lr       0.010949      0.007305        0.00657"
      ]
     },
     "execution_count": 32,
     "metadata": {},
     "output_type": "execute_result"
    }
   ],
   "source": [
    "results_lr = pd.DataFrame({'Model':'lr',\n",
    "                           'mean_train_r2':[pipe_lr.score(X_tr, y_tr)],\n",
    "                           'mean_test_r2':[pipe_lr.score(X_te, y_te)],\n",
    "                           'mean_test_MSE':[MSE(y_te, y_pred_lr)]})\n",
    "results_lr"
   ]
  },
  {
   "cell_type": "markdown",
   "id": "5b962781",
   "metadata": {},
   "source": [
    "> **Remarks**:\n",
    "<br> -  Without tuning any parameters, the linear regression approach gives us a first comparison vs. the calculated baseline, which is slightly better."
   ]
  },
  {
   "cell_type": "markdown",
   "id": "99784375",
   "metadata": {},
   "source": [
    "#### 3.9.2 Ridge Regression: alpha Grid Optimization"
   ]
  },
  {
   "cell_type": "code",
   "execution_count": 33,
   "id": "e3e7de54",
   "metadata": {},
   "outputs": [],
   "source": [
    "#Define the pipeline\n",
    "pipe_Ridge = Pipeline ([\n",
    "    ('scaler', scale),\n",
    "    ('Ridge', Ridge())\n",
    "])\n",
    "\n",
    "# Define grid paramaters\n",
    "a = np.logspace(-2, 6, num=100)\n",
    "grid_Ridge = { \n",
    "    'Ridge__alpha':a\n",
    "}"
   ]
  },
  {
   "cell_type": "code",
   "execution_count": 34,
   "id": "53c22e73",
   "metadata": {},
   "outputs": [
    {
     "data": {
      "text/plain": [
       "['memory',\n",
       " 'steps',\n",
       " 'scaler',\n",
       " 'Ridge',\n",
       " 'scaler__copy',\n",
       " 'scaler__with_mean',\n",
       " 'scaler__with_std',\n",
       " 'Ridge__alpha',\n",
       " 'Ridge__copy_X',\n",
       " 'Ridge__fit_intercept',\n",
       " 'Ridge__max_iter',\n",
       " 'Ridge__normalize',\n",
       " 'Ridge__random_state',\n",
       " 'Ridge__solver',\n",
       " 'Ridge__tol']"
      ]
     },
     "execution_count": 34,
     "metadata": {},
     "output_type": "execute_result"
    }
   ],
   "source": [
    "list(pipe_Ridge.get_params().keys())"
   ]
  },
  {
   "cell_type": "code",
   "execution_count": 35,
   "id": "92677aaf",
   "metadata": {},
   "outputs": [
    {
     "name": "stdout",
     "output_type": "stream",
     "text": [
      "Fitting 5 folds for each of 10 candidates, totalling 50 fits\n"
     ]
    },
    {
     "name": "stderr",
     "output_type": "stream",
     "text": [
      "[Parallel(n_jobs=-1)]: Using backend LokyBackend with 8 concurrent workers.\n",
      "/Users/jeromeaubry/anaconda3/envs/exts-ml/lib/python3.6/site-packages/sklearn/externals/joblib/numpy_pickle.py:104: DeprecationWarning: tostring() is deprecated. Use tobytes() instead.\n",
      "  pickler.file_handle.write(chunk.tostring('C'))\n",
      "/Users/jeromeaubry/anaconda3/envs/exts-ml/lib/python3.6/site-packages/sklearn/externals/joblib/numpy_pickle.py:104: DeprecationWarning: tostring() is deprecated. Use tobytes() instead.\n",
      "  pickler.file_handle.write(chunk.tostring('C'))\n",
      "/Users/jeromeaubry/anaconda3/envs/exts-ml/lib/python3.6/site-packages/sklearn/externals/joblib/numpy_pickle.py:104: DeprecationWarning: tostring() is deprecated. Use tobytes() instead.\n",
      "  pickler.file_handle.write(chunk.tostring('C'))\n",
      "/Users/jeromeaubry/anaconda3/envs/exts-ml/lib/python3.6/site-packages/sklearn/externals/joblib/numpy_pickle.py:104: DeprecationWarning: tostring() is deprecated. Use tobytes() instead.\n",
      "  pickler.file_handle.write(chunk.tostring('C'))\n",
      "[Parallel(n_jobs=-1)]: Done  34 tasks      | elapsed:    3.8s\n",
      "[Parallel(n_jobs=-1)]: Done  50 out of  50 | elapsed:    5.0s finished\n"
     ]
    }
   ],
   "source": [
    "# Use RandomizedSearchCV for optimization\n",
    "\n",
    "random_search_Ridge = RandomizedSearchCV(pipe_Ridge, grid_Ridge, cv=5, verbose=1, n_jobs=-1, random_state=random_state, refit='r2',#Maximize r2\n",
    "                                         return_train_score=True, scoring=['neg_mean_squared_error', 'r2']) # Sort out, optimize r2 and MSE\n",
    "\n",
    "\n",
    "#grid_search_Ridge = GridSearchCV(pipe_Ridge, grid_Ridge, cv=5, verbose=2, n_jobs=-1, refit='r2',  #Maximize r2\n",
    "#                   return_train_score=True, scoring=['neg_mean_squared_error', 'r2']) # Sort out, optimize r2 and MSE\n",
    "\n",
    "#tuned_search_Ridge  =TuneSearchCV(pipe_Ridge, grid_Ridge, early_stopping=True, scoring=['neg_mean_squared_error', 'r2'], n_jobs=-1,\n",
    "#                                  refit='r2', cv=5, verbose=2,return_train_score=True, max_iters=3)\n",
    "                                 \n",
    "result_Ridge_grid = random_search_Ridge.fit(X_tr, y_tr)"
   ]
  },
  {
   "cell_type": "markdown",
   "id": "0401a6df",
   "metadata": {},
   "source": [
    "> **Remark**: \n",
    "<br> - Use GridSearchCV/RandomizedSearchCV for optimization based on this information:\n",
    "<br> - https://scikit-learn.org/stable/modules/model_evaluation.html"
   ]
  },
  {
   "cell_type": "code",
   "execution_count": 36,
   "id": "1e2f96a1",
   "metadata": {},
   "outputs": [
    {
     "name": "stdout",
     "output_type": "stream",
     "text": [
      "Best parameters: {'Ridge__alpha': 4534.878508128591}\n",
      "--------------------------------------------------\n",
      "Best estimators: Pipeline(memory=None,\n",
      "     steps=[('scaler', StandardScaler(copy=True, with_mean=True, with_std=True)), ('Ridge', Ridge(alpha=4534.878508128591, copy_X=True, fit_intercept=True, max_iter=None,\n",
      "   normalize=False, random_state=None, solver='auto', tol=0.001))])\n",
      "--------------------------------------------------\n",
      "Best score: 0.008354482655506692\n",
      "--------------------------------------------------\n"
     ]
    },
    {
     "data": {
      "text/plain": [
       "'Ridge__alpha'"
      ]
     },
     "execution_count": 36,
     "metadata": {},
     "output_type": "execute_result"
    }
   ],
   "source": [
    "# Sortout the best parameters\n",
    "params_Ridge = sortout_params(grid_Ridge, random_search_Ridge)\n",
    "params_Ridge[0]"
   ]
  },
  {
   "cell_type": "code",
   "execution_count": 37,
   "id": "4b74a88e",
   "metadata": {},
   "outputs": [
    {
     "data": {
      "image/png": "[encoded data removed]",
      "text/plain": [
       "<Figure size 1152x432 with 2 Axes>"
      ]
     },
     "metadata": {},
     "output_type": "display_data"
    },
    {
     "name": "stderr",
     "output_type": "stream",
     "text": [
      "/Users/jeromeaubry/anaconda3/envs/exts-ml/lib/python3.6/site-packages/ipykernel_launcher.py:109: SettingWithCopyWarning: \n",
      "A value is trying to be set on a copy of a slice from a DataFrame.\n",
      "Try using .loc[row_indexer,col_indexer] = value instead\n",
      "\n",
      "See the caveats in the documentation: http://pandas.pydata.org/pandas-docs/stable/indexing.html#indexing-view-versus-copy\n"
     ]
    },
    {
     "data": {
      "text/html": [
       "<div>\n",
       "<style scoped>\n",
       "    .dataframe tbody tr th:only-of-type {\n",
       "        vertical-align: middle;\n",
       "    }\n",
       "\n",
       "    .dataframe tbody tr th {\n",
       "        vertical-align: top;\n",
       "    }\n",
       "\n",
       "    .dataframe thead th {\n",
       "        text-align: right;\n",
       "    }\n",
       "</style>\n",
       "<table border=\"1\" class=\"dataframe\">\n",
       "  <thead>\n",
       "    <tr style=\"text-align: right;\">\n",
       "      <th></th>\n",
       "      <th>param_Ridge__alpha</th>\n",
       "      <th>std_train_r2</th>\n",
       "      <th>mean_train_r2</th>\n",
       "      <th>std_validation_r2</th>\n",
       "      <th>mean_validation_r2</th>\n",
       "      <th>std_train_MSE</th>\n",
       "      <th>mean_train_MSE</th>\n",
       "      <th>std_validation_MSE</th>\n",
       "      <th>mean_validation_MSE</th>\n",
       "      <th>Model</th>\n",
       "    </tr>\n",
       "  </thead>\n",
       "  <tbody>\n",
       "    <tr>\n",
       "      <th>2</th>\n",
       "      <td>4534.88</td>\n",
       "      <td>0.001456</td>\n",
       "      <td>0.011129</td>\n",
       "      <td>0.004957</td>\n",
       "      <td>0.008354</td>\n",
       "      <td>0.000138</td>\n",
       "      <td>0.003881</td>\n",
       "      <td>0.000552</td>\n",
       "      <td>0.003892</td>\n",
       "      <td>Ridge</td>\n",
       "    </tr>\n",
       "  </tbody>\n",
       "</table>\n",
       "</div>"
      ],
      "text/plain": [
       "  param_Ridge__alpha  std_train_r2  mean_train_r2  std_validation_r2  \\\n",
       "2            4534.88      0.001456       0.011129           0.004957   \n",
       "\n",
       "   mean_validation_r2  std_train_MSE  mean_train_MSE  std_validation_MSE  \\\n",
       "2            0.008354       0.000138        0.003881            0.000552   \n",
       "\n",
       "   mean_validation_MSE  Model  \n",
       "2             0.003892  Ridge  "
      ]
     },
     "execution_count": 37,
     "metadata": {},
     "output_type": "execute_result"
    }
   ],
   "source": [
    "# Plot the validation curves (R2 & MSE vs. paramater) for the Ridge regression\n",
    "result_Ridge = sortout_data(params_Ridge[0], grid_Ridge, random_search_Ridge, log=True)\n",
    "result_Ridge"
   ]
  },
  {
   "cell_type": "code",
   "execution_count": 38,
   "id": "e1863322",
   "metadata": {},
   "outputs": [
    {
     "name": "stdout",
     "output_type": "stream",
     "text": [
      "The test_r2 for Ridge based on best parameter from grid search: 0.0074\n",
      "The test_MSE for Ridge based on best parameter from grid search: 0.006570\n"
     ]
    }
   ],
   "source": [
    "# Apply the results of the optimized grid search to the test data\n",
    "#R2\n",
    "Ridge_test_score = random_search_Ridge.score(X_te, y_te)\n",
    "print('The test_r2 for Ridge based on best parameter from grid search: {:.4f}'.format(Ridge_test_score))\n",
    "\n",
    "#MSE\n",
    "y_pred_Ridge= result_Ridge_grid.predict(X_te)\n",
    "print('The test_MSE for Ridge based on best parameter from grid search: {:.6f}'.format(MSE(y_pred_Ridge,y_te)))"
   ]
  },
  {
   "cell_type": "code",
   "execution_count": 39,
   "id": "1958bce8",
   "metadata": {},
   "outputs": [
    {
     "data": {
      "text/html": [
       "<div>\n",
       "<style scoped>\n",
       "    .dataframe tbody tr th:only-of-type {\n",
       "        vertical-align: middle;\n",
       "    }\n",
       "\n",
       "    .dataframe tbody tr th {\n",
       "        vertical-align: top;\n",
       "    }\n",
       "\n",
       "    .dataframe thead th {\n",
       "        text-align: right;\n",
       "    }\n",
       "</style>\n",
       "<table border=\"1\" class=\"dataframe\">\n",
       "  <thead>\n",
       "    <tr style=\"text-align: right;\">\n",
       "      <th></th>\n",
       "      <th>Model</th>\n",
       "      <th>mean_test_r2</th>\n",
       "      <th>mean_test_MSE</th>\n",
       "    </tr>\n",
       "  </thead>\n",
       "  <tbody>\n",
       "    <tr>\n",
       "      <th>0</th>\n",
       "      <td>Ridge</td>\n",
       "      <td>0.007382</td>\n",
       "      <td>0.00657</td>\n",
       "    </tr>\n",
       "  </tbody>\n",
       "</table>\n",
       "</div>"
      ],
      "text/plain": [
       "   Model  mean_test_r2  mean_test_MSE\n",
       "0  Ridge      0.007382        0.00657"
      ]
     },
     "execution_count": 39,
     "metadata": {},
     "output_type": "execute_result"
    }
   ],
   "source": [
    "results_Ridge_test = pd.DataFrame({'Model':'Ridge',\n",
    "                                   'mean_test_r2':[Ridge_test_score],\n",
    "                                   'mean_test_MSE':[MSE(y_pred_Ridge,y_te)]})\n",
    "results_Ridge_test"
   ]
  },
  {
   "cell_type": "code",
   "execution_count": 40,
   "id": "93773d4d",
   "metadata": {},
   "outputs": [
    {
     "data": {
      "text/html": [
       "<div>\n",
       "<style scoped>\n",
       "    .dataframe tbody tr th:only-of-type {\n",
       "        vertical-align: middle;\n",
       "    }\n",
       "\n",
       "    .dataframe tbody tr th {\n",
       "        vertical-align: top;\n",
       "    }\n",
       "\n",
       "    .dataframe thead th {\n",
       "        text-align: right;\n",
       "    }\n",
       "</style>\n",
       "<table border=\"1\" class=\"dataframe\">\n",
       "  <thead>\n",
       "    <tr style=\"text-align: right;\">\n",
       "      <th></th>\n",
       "      <th>Model</th>\n",
       "      <th>param_Ridge__alpha</th>\n",
       "      <th>mean_train_r2</th>\n",
       "      <th>std_train_r2</th>\n",
       "      <th>mean_validation_r2</th>\n",
       "      <th>std_validation_r2</th>\n",
       "      <th>mean_test_r2</th>\n",
       "      <th>mean_train_MSE</th>\n",
       "      <th>std_train_MSE</th>\n",
       "      <th>mean_validation_MSE</th>\n",
       "      <th>std_validation_MSE</th>\n",
       "      <th>mean_test_MSE</th>\n",
       "    </tr>\n",
       "  </thead>\n",
       "  <tbody>\n",
       "    <tr>\n",
       "      <th>0</th>\n",
       "      <td>Ridge</td>\n",
       "      <td>4534.88</td>\n",
       "      <td>0.011129</td>\n",
       "      <td>0.001456</td>\n",
       "      <td>0.008354</td>\n",
       "      <td>0.004957</td>\n",
       "      <td>0.007382</td>\n",
       "      <td>0.003881</td>\n",
       "      <td>0.000138</td>\n",
       "      <td>0.003892</td>\n",
       "      <td>0.000552</td>\n",
       "      <td>0.00657</td>\n",
       "    </tr>\n",
       "  </tbody>\n",
       "</table>\n",
       "</div>"
      ],
      "text/plain": [
       "   Model param_Ridge__alpha  mean_train_r2  std_train_r2  mean_validation_r2  \\\n",
       "0  Ridge            4534.88       0.011129      0.001456            0.008354   \n",
       "\n",
       "   std_validation_r2  mean_test_r2  mean_train_MSE  std_train_MSE  \\\n",
       "0           0.004957      0.007382        0.003881       0.000138   \n",
       "\n",
       "   mean_validation_MSE  std_validation_MSE  mean_test_MSE  \n",
       "0             0.003892            0.000552        0.00657  "
      ]
     },
     "execution_count": 40,
     "metadata": {},
     "output_type": "execute_result"
    }
   ],
   "source": [
    "results_Ridge = result_Ridge.merge(results_Ridge_test,how='left', left_on='Model', right_on='Model')\n",
    "# Rearrange the columns\n",
    "cols=  ['Model', 'param_Ridge__alpha', 'mean_train_r2', 'std_train_r2','mean_validation_r2','std_validation_r2',\n",
    "        'mean_test_r2','mean_train_MSE','std_train_MSE','mean_validation_MSE', 'std_validation_MSE', 'mean_test_MSE']\n",
    "results_Ridge = results_Ridge[cols]\n",
    "results_Ridge"
   ]
  },
  {
   "cell_type": "code",
   "execution_count": 41,
   "id": "4a7c25fb",
   "metadata": {
    "jupyter": {
     "source_hidden": true
    }
   },
   "outputs": [],
   "source": [
    "# Manual grid search for the Ridge Regression\n",
    "\n",
    "#cv_results=[]\n",
    "\n",
    "#N=3\n",
    "#for idx_run in range(0, N):\n",
    "              \n",
    "#        scaler = StandardScaler()\n",
    "#        X_tr = scaler.fit_transform(X_tr)\n",
    "#        X_te = scaler.transform(X_te)\n",
    "        \n",
    "#        print('step executed {} out of {}'.format(idx_run+1,N+1))\n",
    "\n",
    "#        for a in np.logspace(1, 4, num=100):\n",
    "            \n",
    "#            model = Ridge(alpha=a) # Ridge compared to LinearRegression, Huber and Lasso seems to be the best compromise after several runs#            model.fit(X_tr,y_tr)\n",
    "#            model.fit(X_tr,y_tr)\n",
    "#            y_pred_tr = np.maximum(model.predict(X_tr), 0)\n",
    "#            y_pred_te = np.maximum(model.predict(X_te),0)\n",
    "\n",
    "#            cv_results.append({'param_Ridge__alpha': a,\n",
    "#                               'idx_run': idx_run,\n",
    "#                               'mean_train_r2': model.score(X_tr,y_tr),\n",
    "#                               'mean_test_r2': model.score(X_te, y_te),\n",
    "#                               'mean_train_neg_mean_squared_error': MSE(y_tr, y_pred_tr), \n",
    "#                               'mean_test_neg_mean_squared_error':  MSE(y_te,y_pred_te), \n",
    "#            })\n",
    "        \n",
    "#cv_results_manu = pd.DataFrame(cv_results)\n",
    "#cv_results_manu = cv_results_manu[['idx_run','param_Ridge__alpha', 'mean_train_neg_mean_squared_error', 'mean_train_r2', \n",
    "#                         'mean_test_neg_mean_squared_error', 'mean_test_r2',]]\n",
    "#cv_results_manu = cv_results_manu.loc[1:,:]\n",
    "#cv_results_manu.head()"
   ]
  },
  {
   "cell_type": "markdown",
   "id": "31360439",
   "metadata": {},
   "source": [
    "> **Remarks**:\n",
    "<br> - The results did not display very good results, and we don't improve a lot the results by tuning the hyperparameter `alpha` for regularization compared to the simple approach with the `LinearRegression` (without any hyperparameter) since r2_test and MSE_test remain in the same order of magnitude.\n",
    "<br> - We saw overfitting as there is a constant gap between the train and validation curves; in addition, the std of the validation dataset shows a bigger pattern than the one from the training dataset, meaning that the model is not robust enough on the unseen data and the train data are taken too much noise maybe too much variance.\n",
    "<br> - The result of the r2 is very low. Is it due to the poor data quality from EDA or to the fact that the data cannot be approximated by a linear approach, or is r2 not adequate information?\n",
    "<br> - Linear regression does not seem to be the right approach for fitting the data; although we are dealing with not a very large set of features, the collinearity does not seem to exist based on EDA but we keep many outliers in the dataset."
   ]
  },
  {
   "cell_type": "markdown",
   "id": "15d9ffcb",
   "metadata": {},
   "source": [
    "### 3.10 K-NN --> See other file: 03.1.Knn-ML-jeromeaubry.ipynb"
   ]
  },
  {
   "cell_type": "code",
   "execution_count": 79,
   "id": "0f0f4b7a",
   "metadata": {
    "jupyter": {
     "source_hidden": true
    }
   },
   "outputs": [],
   "source": [
    "from sklearn.neighbors import KNeighborsRegressor"
   ]
  },
  {
   "cell_type": "code",
   "execution_count": 80,
   "id": "90bae8b3",
   "metadata": {
    "jupyter": {
     "source_hidden": true
    }
   },
   "outputs": [],
   "source": [
    "#Create a pipeline\n",
    "#pipe_knn = Pipeline([\n",
    "#    ('scaler', scale), \n",
    "#    ('knn', KNeighborsRegressor(algorithm='brute')) \n",
    "#])\n",
    "\n",
    "# Create a grid search\n",
    "#k_values = np.arange(1,121,20)\n",
    "\n",
    "#grid_knn = {\n",
    "#    'knn__n_neighbors': k_values,\n",
    "#    'knn__weights':['uniform','distance'],\n",
    "#    'knn__p':[1,2]\n",
    "#}"
   ]
  },
  {
   "cell_type": "code",
   "execution_count": null,
   "id": "97d3de01",
   "metadata": {
    "collapsed": true,
    "jupyter": {
     "outputs_hidden": true,
     "source_hidden": true
    }
   },
   "outputs": [
    {
     "name": "stdout",
     "output_type": "stream",
     "text": [
      "Fitting 3 folds for each of 10 candidates, totalling 30 fits\n"
     ]
    },
    {
     "name": "stderr",
     "output_type": "stream",
     "text": [
      "[Parallel(n_jobs=-1)]: Using backend LokyBackend with 8 concurrent workers.\n",
      "/Users/jeromeaubry/anaconda3/envs/exts-ml/lib/python3.6/site-packages/sklearn/externals/joblib/numpy_pickle.py:104: DeprecationWarning: tostring() is deprecated. Use tobytes() instead.\n",
      "  pickler.file_handle.write(chunk.tostring('C'))\n",
      "/Users/jeromeaubry/anaconda3/envs/exts-ml/lib/python3.6/site-packages/sklearn/externals/joblib/numpy_pickle.py:104: DeprecationWarning: tostring() is deprecated. Use tobytes() instead.\n",
      "  pickler.file_handle.write(chunk.tostring('C'))\n",
      "/Users/jeromeaubry/anaconda3/envs/exts-ml/lib/python3.6/site-packages/sklearn/externals/joblib/numpy_pickle.py:104: DeprecationWarning: tostring() is deprecated. Use tobytes() instead.\n",
      "  pickler.file_handle.write(chunk.tostring('C'))\n",
      "/Users/jeromeaubry/anaconda3/envs/exts-ml/lib/python3.6/site-packages/sklearn/externals/joblib/numpy_pickle.py:104: DeprecationWarning: tostring() is deprecated. Use tobytes() instead.\n",
      "  pickler.file_handle.write(chunk.tostring('C'))\n",
      "[Parallel(n_jobs=-1)]: Done   2 tasks      | elapsed: 18.4min\n"
     ]
    }
   ],
   "source": [
    "# Use GridSearchCV for optimization\n",
    "\n",
    "#random_search_knn = RandomizedSearchCV(pipe_knn, grid_knn, cv=3, verbose=10, n_jobs=-1, refit='r2',  #Maximize r2\n",
    "#                                    random_state=random_state, return_train_score=True, scoring=['neg_mean_squared_error', 'r2']) # Sort out r2 and MSE\n",
    "\n",
    "\n",
    "\n",
    "#grid_search_knn = GridSearchCV(pipe_knn, grid_knn, cv=3, verbose=10, n_jobs=-1, refit='r2',  #Maximize r2\n",
    "#                                 return_train_score=True, scoring=['neg_mean_squared_error', 'r2']) # optimize r2 and MSE\n",
    "\n",
    "#tuned_search_knn  = TuneSearchCV(pipe_knn, grid_knn, early_stopping=True, scoring=['neg_mean_squared_error', 'r2'], n_jobs=-1,\n",
    "#                                  refit='r2', cv=5, verbose=2, return_train_score=True, max_iters=3, search_optimization='random')\n",
    "                                 \n",
    "#result_knn_grid = random_search_knn.fit(X_tr, y_tr)"
   ]
  },
  {
   "cell_type": "code",
   "execution_count": null,
   "id": "10a9af4f",
   "metadata": {
    "jupyter": {
     "source_hidden": true
    }
   },
   "outputs": [],
   "source": [
    "# Sortout the best parameters\n",
    "#params_knn = sortout_params(grid_knn, random_search_knn)\n",
    "#params_knn"
   ]
  },
  {
   "cell_type": "code",
   "execution_count": null,
   "id": "68218386",
   "metadata": {
    "jupyter": {
     "source_hidden": true
    }
   },
   "outputs": [],
   "source": [
    "#result_knn = sortout_data(params_knn[0], grid_knn, random_search_knn, log=False)\n",
    "#result_knn"
   ]
  },
  {
   "cell_type": "code",
   "execution_count": null,
   "id": "6ef2b06f",
   "metadata": {
    "jupyter": {
     "source_hidden": true
    }
   },
   "outputs": [],
   "source": [
    "# Apply the results of the grid search to the test data\n",
    "#knn_test_score = random_search_knn.score(X_te, y_te)\n",
    "#knn_test_score"
   ]
  },
  {
   "cell_type": "code",
   "execution_count": null,
   "id": "a80d07e9",
   "metadata": {
    "jupyter": {
     "source_hidden": true
    }
   },
   "outputs": [],
   "source": [
    "# Apply the results of the optimized grid search to the test data\n",
    "#R2\n",
    "#knn_test_score = random_search_knn.score(X_te, y_te)\n",
    "#print('The test_r2 for rf based on best parameter from grid search: {:.4f}'.format(knn_test_score))\n",
    "\n",
    "#MSE\n",
    "#y_pred_knn= result_knn_grid.predict(X_te)\n",
    "#print('The test_MSE for rf  based on best parameter from grid search: {:.6f}'.format(MSE(y_pred_knn,y_te)))"
   ]
  },
  {
   "cell_type": "code",
   "execution_count": null,
   "id": "a7f657b7",
   "metadata": {
    "jupyter": {
     "source_hidden": true
    }
   },
   "outputs": [],
   "source": [
    "#results_knn_test = pd.DataFrame({'Model':'knn',\n",
    "#                                   'mean_test_r2':[knn_test_score],\n",
    "#                                   'mean_test_MSE':[MSE(y_pred_knn,y_te)]})\n",
    "#results_knn_test"
   ]
  },
  {
   "cell_type": "code",
   "execution_count": null,
   "id": "f37b2080",
   "metadata": {
    "jupyter": {
     "source_hidden": true
    }
   },
   "outputs": [],
   "source": [
    "#results_knn = result_knn.merge(results_knn_test,how='left', left_on='Model', right_on='Model')\n",
    "\n",
    "#cols=  ['Model', 'param_knn__p', 'param_knn__weights', 'param_knn__n_neighbors', 'mean_train_r2', 'std_train_r2','mean_validation_r2','std_validation_r2',\n",
    "#        'mean_test_r2','mean_train_MSE','std_train_MSE','mean_validation_MSE', 'std_validation_MSE', 'mean_test_MSE']\n",
    "#results_knn = results_knn[cols]\n",
    "#results_knn"
   ]
  },
  {
   "cell_type": "markdown",
   "id": "3ee353cf",
   "metadata": {},
   "source": [
    "### 3.11. Non-Linear Approach: SVR: Supervised Vector Machine Approach for Regression"
   ]
  },
  {
   "cell_type": "code",
   "execution_count": 50,
   "id": "9ad83a8d",
   "metadata": {},
   "outputs": [],
   "source": [
    "# Call the necessary librairies\n",
    "from sklearn.svm import SVR"
   ]
  },
  {
   "cell_type": "code",
   "execution_count": 51,
   "id": "9ea1911a",
   "metadata": {},
   "outputs": [
    {
     "name": "stdout",
     "output_type": "stream",
     "text": [
      "CPU times: user 4 µs, sys: 1 µs, total: 5 µs\n",
      "Wall time: 11.9 µs\n"
     ]
    }
   ],
   "source": [
    "# Create a pipeline and a gridsearch\n",
    "%time\n",
    "pipe_SVR = Pipeline([\n",
    "    ('scale',scale),\n",
    "    ('SVR',SVR())\n",
    "])\n",
    "\n",
    "C_values = [0.1,1,10,20]\n",
    "grid_SVR = {\n",
    "    'SVR__C': C_values,\n",
    "    'SVR__kernel':['rbf']\n",
    "}\n"
   ]
  },
  {
   "cell_type": "code",
   "execution_count": 52,
   "id": "91eba2b3",
   "metadata": {},
   "outputs": [
    {
     "data": {
      "text/plain": [
       "['memory',\n",
       " 'steps',\n",
       " 'scale',\n",
       " 'SVR',\n",
       " 'scale__copy',\n",
       " 'scale__with_mean',\n",
       " 'scale__with_std',\n",
       " 'SVR__C',\n",
       " 'SVR__cache_size',\n",
       " 'SVR__coef0',\n",
       " 'SVR__degree',\n",
       " 'SVR__epsilon',\n",
       " 'SVR__gamma',\n",
       " 'SVR__kernel',\n",
       " 'SVR__max_iter',\n",
       " 'SVR__shrinking',\n",
       " 'SVR__tol',\n",
       " 'SVR__verbose']"
      ]
     },
     "execution_count": 52,
     "metadata": {},
     "output_type": "execute_result"
    }
   ],
   "source": [
    "list(pipe_SVR.get_params())"
   ]
  },
  {
   "cell_type": "code",
   "execution_count": 53,
   "id": "e5308877",
   "metadata": {},
   "outputs": [
    {
     "name": "stderr",
     "output_type": "stream",
     "text": [
      "/Users/jeromeaubry/anaconda3/envs/exts-ml/lib/python3.6/site-packages/sklearn/model_selection/_search.py:271: UserWarning: The total space of parameters 4 is smaller than n_iter=10. Running 4 iterations. For exhaustive searches, use GridSearchCV.\n",
      "  % (grid_size, self.n_iter, grid_size), UserWarning)\n",
      "[Parallel(n_jobs=-1)]: Using backend LokyBackend with 8 concurrent workers.\n",
      "/Users/jeromeaubry/anaconda3/envs/exts-ml/lib/python3.6/site-packages/sklearn/externals/joblib/numpy_pickle.py:104: DeprecationWarning: tostring() is deprecated. Use tobytes() instead.\n",
      "  pickler.file_handle.write(chunk.tostring('C'))\n",
      "/Users/jeromeaubry/anaconda3/envs/exts-ml/lib/python3.6/site-packages/sklearn/externals/joblib/numpy_pickle.py:104: DeprecationWarning: tostring() is deprecated. Use tobytes() instead.\n",
      "  pickler.file_handle.write(chunk.tostring('C'))\n",
      "/Users/jeromeaubry/anaconda3/envs/exts-ml/lib/python3.6/site-packages/sklearn/externals/joblib/numpy_pickle.py:104: DeprecationWarning: tostring() is deprecated. Use tobytes() instead.\n",
      "  pickler.file_handle.write(chunk.tostring('C'))\n",
      "/Users/jeromeaubry/anaconda3/envs/exts-ml/lib/python3.6/site-packages/sklearn/externals/joblib/numpy_pickle.py:104: DeprecationWarning: tostring() is deprecated. Use tobytes() instead.\n",
      "  pickler.file_handle.write(chunk.tostring('C'))\n"
     ]
    },
    {
     "name": "stdout",
     "output_type": "stream",
     "text": [
      "Fitting 3 folds for each of 4 candidates, totalling 12 fits\n"
     ]
    },
    {
     "name": "stderr",
     "output_type": "stream",
     "text": [
      "[Parallel(n_jobs=-1)]: Done   1 tasks      | elapsed:   21.3s\n",
      "[Parallel(n_jobs=-1)]: Done   2 out of  12 | elapsed:   22.6s remaining:  1.9min\n",
      "[Parallel(n_jobs=-1)]: Done   3 out of  12 | elapsed:   22.6s remaining:  1.1min\n",
      "[Parallel(n_jobs=-1)]: Done   4 out of  12 | elapsed:   23.5s remaining:   47.1s\n",
      "[Parallel(n_jobs=-1)]: Done   5 out of  12 | elapsed:   24.1s remaining:   33.8s\n",
      "[Parallel(n_jobs=-1)]: Done   6 out of  12 | elapsed:   25.1s remaining:   25.1s\n",
      "[Parallel(n_jobs=-1)]: Done   7 out of  12 | elapsed:  1.7min remaining:  1.2min\n",
      "[Parallel(n_jobs=-1)]: Done   8 out of  12 | elapsed:  1.9min remaining:   55.7s\n",
      "[Parallel(n_jobs=-1)]: Done   9 out of  12 | elapsed:  2.3min remaining:   45.8s\n",
      "[Parallel(n_jobs=-1)]: Done  10 out of  12 | elapsed:  2.9min remaining:   34.9s\n",
      "[Parallel(n_jobs=-1)]: Done  12 out of  12 | elapsed:  3.2min remaining:    0.0s\n",
      "[Parallel(n_jobs=-1)]: Done  12 out of  12 | elapsed:  3.2min finished\n"
     ]
    }
   ],
   "source": [
    "random_search_SVR = RandomizedSearchCV(pipe_SVR, grid_SVR, cv=3, verbose=20, n_jobs=-1, refit='r2',  #Maximize r2\n",
    "                                       random_state=random_state, return_train_score=True, \n",
    "                                       scoring=['neg_mean_squared_error', 'r2']) # Optimize MSE; r2\n",
    "\n",
    "#grid_search_SVR = GridSearchCV(pipe_SVR, grid_SVR, cv=2, verbose=20, n_jobs=-1, refit='r2',\n",
    "#                              return_train_score=True,scoring=['neg_mean_squared_error','r2'])\n",
    "\n",
    "result_SVR_grid = random_search_SVR.fit(X_tr,y_tr)"
   ]
  },
  {
   "cell_type": "code",
   "execution_count": 54,
   "id": "194889ba",
   "metadata": {},
   "outputs": [
    {
     "name": "stdout",
     "output_type": "stream",
     "text": [
      "Best parameters: {'SVR__kernel': 'rbf', 'SVR__C': 10}\n",
      "--------------------------------------------------\n",
      "Best estimators: Pipeline(memory=None,\n",
      "     steps=[('scale', StandardScaler(copy=True, with_mean=True, with_std=True)), ('SVR', SVR(C=10, cache_size=200, coef0=0.0, degree=3, epsilon=0.1,\n",
      "  gamma='auto_deprecated', kernel='rbf', max_iter=-1, shrinking=True,\n",
      "  tol=0.001, verbose=False))])\n",
      "--------------------------------------------------\n",
      "Best score: -0.5257424939170345\n",
      "--------------------------------------------------\n"
     ]
    },
    {
     "data": {
      "text/plain": [
       "['SVR__C', 'SVR__kernel']"
      ]
     },
     "execution_count": 54,
     "metadata": {},
     "output_type": "execute_result"
    }
   ],
   "source": [
    "# Sortout the best parameters\n",
    "params_SVR = sortout_params(grid_SVR, random_search_SVR)\n",
    "params_SVR"
   ]
  },
  {
   "cell_type": "code",
   "execution_count": 55,
   "id": "bdc02e87",
   "metadata": {},
   "outputs": [
    {
     "data": {
      "text/plain": [
       "'SVR__C'"
      ]
     },
     "execution_count": 55,
     "metadata": {},
     "output_type": "execute_result"
    }
   ],
   "source": [
    "params_SVR[0]"
   ]
  },
  {
   "cell_type": "code",
   "execution_count": 56,
   "id": "817aa9c3",
   "metadata": {},
   "outputs": [
    {
     "data": {
      "image/png": "[encoded data removed]",
      "text/plain": [
       "<Figure size 1152x432 with 2 Axes>"
      ]
     },
     "metadata": {},
     "output_type": "display_data"
    },
    {
     "name": "stderr",
     "output_type": "stream",
     "text": [
      "/Users/jeromeaubry/anaconda3/envs/exts-ml/lib/python3.6/site-packages/ipykernel_launcher.py:109: SettingWithCopyWarning: \n",
      "A value is trying to be set on a copy of a slice from a DataFrame.\n",
      "Try using .loc[row_indexer,col_indexer] = value instead\n",
      "\n",
      "See the caveats in the documentation: http://pandas.pydata.org/pandas-docs/stable/indexing.html#indexing-view-versus-copy\n"
     ]
    },
    {
     "data": {
      "text/html": [
       "<div>\n",
       "<style scoped>\n",
       "    .dataframe tbody tr th:only-of-type {\n",
       "        vertical-align: middle;\n",
       "    }\n",
       "\n",
       "    .dataframe tbody tr th {\n",
       "        vertical-align: top;\n",
       "    }\n",
       "\n",
       "    .dataframe thead th {\n",
       "        text-align: right;\n",
       "    }\n",
       "</style>\n",
       "<table border=\"1\" class=\"dataframe\">\n",
       "  <thead>\n",
       "    <tr style=\"text-align: right;\">\n",
       "      <th></th>\n",
       "      <th>param_SVR__kernel</th>\n",
       "      <th>param_SVR__C</th>\n",
       "      <th>std_train_r2</th>\n",
       "      <th>mean_train_r2</th>\n",
       "      <th>std_validation_r2</th>\n",
       "      <th>mean_validation_r2</th>\n",
       "      <th>std_train_MSE</th>\n",
       "      <th>mean_train_MSE</th>\n",
       "      <th>std_validation_MSE</th>\n",
       "      <th>mean_validation_MSE</th>\n",
       "      <th>Model</th>\n",
       "    </tr>\n",
       "  </thead>\n",
       "  <tbody>\n",
       "    <tr>\n",
       "      <th>2</th>\n",
       "      <td>rbf</td>\n",
       "      <td>10</td>\n",
       "      <td>0.054617</td>\n",
       "      <td>-0.046637</td>\n",
       "      <td>0.078562</td>\n",
       "      <td>-0.525742</td>\n",
       "      <td>0.000206</td>\n",
       "      <td>0.004097</td>\n",
       "      <td>0.000618</td>\n",
       "      <td>0.005949</td>\n",
       "      <td>SVR</td>\n",
       "    </tr>\n",
       "  </tbody>\n",
       "</table>\n",
       "</div>"
      ],
      "text/plain": [
       "  param_SVR__kernel param_SVR__C  std_train_r2  mean_train_r2  \\\n",
       "2               rbf           10      0.054617      -0.046637   \n",
       "\n",
       "   std_validation_r2  mean_validation_r2  std_train_MSE  mean_train_MSE  \\\n",
       "2           0.078562           -0.525742       0.000206        0.004097   \n",
       "\n",
       "   std_validation_MSE  mean_validation_MSE Model  \n",
       "2            0.000618             0.005949   SVR  "
      ]
     },
     "execution_count": 56,
     "metadata": {},
     "output_type": "execute_result"
    }
   ],
   "source": [
    "#Plot the data with C parameter as X_axis\n",
    "result_SVR = sortout_data(params_SVR[0], grid_SVR, random_search_SVR, log=False)\n",
    "result_SVR"
   ]
  },
  {
   "cell_type": "code",
   "execution_count": 57,
   "id": "495a5b38",
   "metadata": {},
   "outputs": [
    {
     "name": "stdout",
     "output_type": "stream",
     "text": [
      "The test_r2 for SVR based on best parameter from grid search: -0.2935\n",
      "The test_MSE for SVR  based on best parameter from grid search: 0.008561\n"
     ]
    }
   ],
   "source": [
    "# Apply the results of the optimized grid search to the test data\n",
    "#R2\n",
    "SVR_test_score = random_search_SVR.score(X_te, y_te)\n",
    "print('The test_r2 for SVR based on best parameter from grid search: {:.4f}'.format(SVR_test_score))\n",
    "\n",
    "#MSE\n",
    "y_pred_SVR= result_SVR_grid.predict(X_te)\n",
    "print('The test_MSE for SVR  based on best parameter from grid search: {:.6f}'.format(MSE(y_pred_SVR,y_te)))"
   ]
  },
  {
   "cell_type": "code",
   "execution_count": 58,
   "id": "c96bfef4",
   "metadata": {},
   "outputs": [
    {
     "data": {
      "text/html": [
       "<div>\n",
       "<style scoped>\n",
       "    .dataframe tbody tr th:only-of-type {\n",
       "        vertical-align: middle;\n",
       "    }\n",
       "\n",
       "    .dataframe tbody tr th {\n",
       "        vertical-align: top;\n",
       "    }\n",
       "\n",
       "    .dataframe thead th {\n",
       "        text-align: right;\n",
       "    }\n",
       "</style>\n",
       "<table border=\"1\" class=\"dataframe\">\n",
       "  <thead>\n",
       "    <tr style=\"text-align: right;\">\n",
       "      <th></th>\n",
       "      <th>Model</th>\n",
       "      <th>mean_test_r2</th>\n",
       "      <th>mean_test_MSE</th>\n",
       "    </tr>\n",
       "  </thead>\n",
       "  <tbody>\n",
       "    <tr>\n",
       "      <th>0</th>\n",
       "      <td>SVR</td>\n",
       "      <td>-0.293461</td>\n",
       "      <td>0.008561</td>\n",
       "    </tr>\n",
       "  </tbody>\n",
       "</table>\n",
       "</div>"
      ],
      "text/plain": [
       "  Model  mean_test_r2  mean_test_MSE\n",
       "0   SVR     -0.293461       0.008561"
      ]
     },
     "execution_count": 58,
     "metadata": {},
     "output_type": "execute_result"
    }
   ],
   "source": [
    "results_SVR_test = pd.DataFrame({'Model':'SVR',\n",
    "                                   'mean_test_r2':[SVR_test_score],\n",
    "                                   'mean_test_MSE':[MSE(y_pred_SVR,y_te)]})\n",
    "results_SVR_test"
   ]
  },
  {
   "cell_type": "code",
   "execution_count": 59,
   "id": "5f9b6939",
   "metadata": {},
   "outputs": [
    {
     "data": {
      "text/html": [
       "<div>\n",
       "<style scoped>\n",
       "    .dataframe tbody tr th:only-of-type {\n",
       "        vertical-align: middle;\n",
       "    }\n",
       "\n",
       "    .dataframe tbody tr th {\n",
       "        vertical-align: top;\n",
       "    }\n",
       "\n",
       "    .dataframe thead th {\n",
       "        text-align: right;\n",
       "    }\n",
       "</style>\n",
       "<table border=\"1\" class=\"dataframe\">\n",
       "  <thead>\n",
       "    <tr style=\"text-align: right;\">\n",
       "      <th></th>\n",
       "      <th>Model</th>\n",
       "      <th>param_SVR__kernel</th>\n",
       "      <th>param_SVR__C</th>\n",
       "      <th>mean_train_r2</th>\n",
       "      <th>std_train_r2</th>\n",
       "      <th>mean_validation_r2</th>\n",
       "      <th>std_validation_r2</th>\n",
       "      <th>mean_test_r2</th>\n",
       "      <th>mean_train_MSE</th>\n",
       "      <th>std_train_MSE</th>\n",
       "      <th>mean_validation_MSE</th>\n",
       "      <th>std_validation_MSE</th>\n",
       "      <th>mean_test_MSE</th>\n",
       "    </tr>\n",
       "  </thead>\n",
       "  <tbody>\n",
       "    <tr>\n",
       "      <th>0</th>\n",
       "      <td>SVR</td>\n",
       "      <td>rbf</td>\n",
       "      <td>10</td>\n",
       "      <td>-0.046637</td>\n",
       "      <td>0.054617</td>\n",
       "      <td>-0.525742</td>\n",
       "      <td>0.078562</td>\n",
       "      <td>-0.293461</td>\n",
       "      <td>0.004097</td>\n",
       "      <td>0.000206</td>\n",
       "      <td>0.005949</td>\n",
       "      <td>0.000618</td>\n",
       "      <td>0.008561</td>\n",
       "    </tr>\n",
       "  </tbody>\n",
       "</table>\n",
       "</div>"
      ],
      "text/plain": [
       "  Model param_SVR__kernel param_SVR__C  mean_train_r2  std_train_r2  \\\n",
       "0   SVR               rbf           10      -0.046637      0.054617   \n",
       "\n",
       "   mean_validation_r2  std_validation_r2  mean_test_r2  mean_train_MSE  \\\n",
       "0           -0.525742           0.078562     -0.293461        0.004097   \n",
       "\n",
       "   std_train_MSE  mean_validation_MSE  std_validation_MSE  mean_test_MSE  \n",
       "0       0.000206             0.005949            0.000618       0.008561  "
      ]
     },
     "execution_count": 59,
     "metadata": {},
     "output_type": "execute_result"
    }
   ],
   "source": [
    "results_SVR = result_SVR.merge(results_SVR_test,how='left', left_on='Model', right_on='Model')\n",
    "# Rearrange the columns\n",
    "cols=  ['Model', 'param_SVR__kernel', 'param_SVR__C', 'mean_train_r2', 'std_train_r2','mean_validation_r2','std_validation_r2',\n",
    "        'mean_test_r2','mean_train_MSE','std_train_MSE','mean_validation_MSE', 'std_validation_MSE', 'mean_test_MSE']\n",
    "results_SVR = results_SVR[cols]\n",
    "results_SVR"
   ]
  },
  {
   "cell_type": "markdown",
   "id": "76b481b9",
   "metadata": {},
   "source": [
    "> **Remarks**:\n",
    "<br> - We use the option Gaussian Radial Basis Function `RBF` as the kernel for the SVM regression acting as a non-linear regression.\n",
    "<br> - The parameter `C`is tuned and acts similar to the factor `alpha` for the Ridge Regression; it is a regularization parameter if the model overfits `C` should be reduced and vice-versa for the underfitting case. The margin `epsilon` is set to 0.1 per default as representing the width/margin of the \"tube\" where the SVM Regression tries to fit as many instances as possible within this tube while limiting the margin violations.\n",
    "<br> - The optimum for the train and test data is`C`=10, but the resolution is not so big since we down-select 4 values for optimizing due to the time-consuming process\n",
    "<br> - The level of std for the validation data is again slightly bigger than for the train data.\n",
    "<br> - Again, the results are very mediocre, r2 is even negative, and MSE results are worst than for the linear regression; although the algorithm shows an optimum value, increasing `C` lead to the improvement of the training data while the validation decreases meaning an overfitting problem, this means a high variance but in addition, the model performs poorly for fitting the data."
   ]
  },
  {
   "cell_type": "markdown",
   "id": "25fa99e2",
   "metadata": {},
   "source": [
    "### 3.12.Non Linear Approach: Random Forest "
   ]
  },
  {
   "cell_type": "code",
   "execution_count": 40,
   "id": "860fe124",
   "metadata": {},
   "outputs": [],
   "source": [
    "from sklearn.ensemble import RandomForestRegressor "
   ]
  },
  {
   "cell_type": "code",
   "execution_count": 41,
   "id": "bbcc5a0c",
   "metadata": {},
   "outputs": [],
   "source": [
    "# Create a pipeline and a gridsearch\n",
    "pipe_rf = Pipeline([\n",
    "    ('scale',scale),\n",
    "    ('rf', RandomForestRegressor())\n",
    "])\n",
    "max_depth_values = np.arange(1,50,1)\n",
    "#max_depth_values = np.logspace(-1, 4, num=50)\n",
    "n_estimator_values = [1,10,100]\n",
    "\n",
    "grid_rf ={\n",
    "    'rf__max_depth': max_depth_values,\n",
    "    'rf__n_estimators': n_estimator_values \n",
    "}"
   ]
  },
  {
   "cell_type": "code",
   "execution_count": 42,
   "id": "4380e1d8",
   "metadata": {},
   "outputs": [
    {
     "data": {
      "text/plain": [
       "['memory',\n",
       " 'steps',\n",
       " 'scale',\n",
       " 'rf',\n",
       " 'scale__copy',\n",
       " 'scale__with_mean',\n",
       " 'scale__with_std',\n",
       " 'rf__bootstrap',\n",
       " 'rf__criterion',\n",
       " 'rf__max_depth',\n",
       " 'rf__max_features',\n",
       " 'rf__max_leaf_nodes',\n",
       " 'rf__min_impurity_decrease',\n",
       " 'rf__min_impurity_split',\n",
       " 'rf__min_samples_leaf',\n",
       " 'rf__min_samples_split',\n",
       " 'rf__min_weight_fraction_leaf',\n",
       " 'rf__n_estimators',\n",
       " 'rf__n_jobs',\n",
       " 'rf__oob_score',\n",
       " 'rf__random_state',\n",
       " 'rf__verbose',\n",
       " 'rf__warm_start']"
      ]
     },
     "execution_count": 42,
     "metadata": {},
     "output_type": "execute_result"
    }
   ],
   "source": [
    "list(pipe_rf.get_params())"
   ]
  },
  {
   "cell_type": "code",
   "execution_count": 43,
   "id": "1162be95",
   "metadata": {},
   "outputs": [
    {
     "name": "stdout",
     "output_type": "stream",
     "text": [
      "Fitting 3 folds for each of 10 candidates, totalling 30 fits\n"
     ]
    },
    {
     "name": "stderr",
     "output_type": "stream",
     "text": [
      "[Parallel(n_jobs=-1)]: Using backend LokyBackend with 8 concurrent workers.\n",
      "/Users/jeromeaubry/anaconda3/envs/exts-ml/lib/python3.6/site-packages/sklearn/externals/joblib/numpy_pickle.py:104: DeprecationWarning: tostring() is deprecated. Use tobytes() instead.\n",
      "  pickler.file_handle.write(chunk.tostring('C'))\n",
      "/Users/jeromeaubry/anaconda3/envs/exts-ml/lib/python3.6/site-packages/sklearn/externals/joblib/numpy_pickle.py:104: DeprecationWarning: tostring() is deprecated. Use tobytes() instead.\n",
      "  pickler.file_handle.write(chunk.tostring('C'))\n",
      "/Users/jeromeaubry/anaconda3/envs/exts-ml/lib/python3.6/site-packages/sklearn/externals/joblib/numpy_pickle.py:104: DeprecationWarning: tostring() is deprecated. Use tobytes() instead.\n",
      "  pickler.file_handle.write(chunk.tostring('C'))\n",
      "/Users/jeromeaubry/anaconda3/envs/exts-ml/lib/python3.6/site-packages/sklearn/externals/joblib/numpy_pickle.py:104: DeprecationWarning: tostring() is deprecated. Use tobytes() instead.\n",
      "  pickler.file_handle.write(chunk.tostring('C'))\n",
      "[Parallel(n_jobs=-1)]: Done   2 tasks      | elapsed:    1.1s\n",
      "[Parallel(n_jobs=-1)]: Done   9 tasks      | elapsed:    8.5s\n",
      "[Parallel(n_jobs=-1)]: Done  19 out of  30 | elapsed:   50.8s remaining:   29.4s\n",
      "[Parallel(n_jobs=-1)]: Done  23 out of  30 | elapsed:  1.2min remaining:   21.2s\n",
      "[Parallel(n_jobs=-1)]: Done  27 out of  30 | elapsed:  1.3min remaining:    8.8s\n",
      "[Parallel(n_jobs=-1)]: Done  30 out of  30 | elapsed:  1.6min finished\n"
     ]
    }
   ],
   "source": [
    "#grid_search_rf = GridSearchCV(pipe_rf,grid_rf,cv=5,verbose=20,n_jobs=-1,refit='r2', \n",
    "#                              return_train_score=True, scoring=['neg_mean_squared_error', 'r2'])\n",
    "\n",
    "random_search_rf = RandomizedSearchCV(pipe_rf,grid_rf, cv=3, verbose=10, n_jobs=-1, refit='r2',  #Maximize r2\n",
    "                                 random_state=random_state, return_train_score=True, scoring=['neg_mean_squared_error', 'r2']) # Sort out r2 and MSE\n",
    "\n",
    "result_rf_grid = random_search_rf.fit(X_tr,y_tr)"
   ]
  },
  {
   "cell_type": "code",
   "execution_count": 46,
   "id": "479f4f9c",
   "metadata": {},
   "outputs": [
    {
     "name": "stdout",
     "output_type": "stream",
     "text": [
      "Best parameters: {'rf__n_estimators': 100, 'rf__max_depth': 5}\n",
      "--------------------------------------------------\n",
      "Best estimators: Pipeline(memory=None,\n",
      "     steps=[('scale', StandardScaler(copy=True, with_mean=True, with_std=True)), ('rf', RandomForestRegressor(bootstrap=True, criterion='mse', max_depth=5,\n",
      "           max_features='auto', max_leaf_nodes=None,\n",
      "           min_impurity_decrease=0.0, min_impurity_split=None,\n",
      "           min_samples_leaf=1, min_samples_split=2,\n",
      "           min_weight_fraction_leaf=0.0, n_estimators=100, n_jobs=None,\n",
      "           oob_score=False, random_state=None, verbose=0, warm_start=False))])\n",
      "--------------------------------------------------\n",
      "Best score: 0.03170266643846897\n",
      "--------------------------------------------------\n"
     ]
    },
    {
     "data": {
      "text/plain": [
       "['rf__max_depth', 'rf__n_estimators']"
      ]
     },
     "execution_count": 46,
     "metadata": {},
     "output_type": "execute_result"
    }
   ],
   "source": [
    "# Sortout the best parameters\n",
    "params_rf = sortout_params(grid_rf, random_search_rf)\n",
    "params_rf"
   ]
  },
  {
   "cell_type": "code",
   "execution_count": 57,
   "id": "609e8d78",
   "metadata": {},
   "outputs": [
    {
     "data": {
      "image/png": "[encoded data removed]",
      "text/plain": [
       "<Figure size 1152x432 with 2 Axes>"
      ]
     },
     "metadata": {},
     "output_type": "display_data"
    },
    {
     "name": "stderr",
     "output_type": "stream",
     "text": [
      "/Users/jeromeaubry/anaconda3/envs/exts-ml/lib/python3.6/site-packages/ipykernel_launcher.py:109: SettingWithCopyWarning: \n",
      "A value is trying to be set on a copy of a slice from a DataFrame.\n",
      "Try using .loc[row_indexer,col_indexer] = value instead\n",
      "\n",
      "See the caveats in the documentation: http://pandas.pydata.org/pandas-docs/stable/indexing.html#indexing-view-versus-copy\n"
     ]
    },
    {
     "data": {
      "text/html": [
       "<div>\n",
       "<style scoped>\n",
       "    .dataframe tbody tr th:only-of-type {\n",
       "        vertical-align: middle;\n",
       "    }\n",
       "\n",
       "    .dataframe tbody tr th {\n",
       "        vertical-align: top;\n",
       "    }\n",
       "\n",
       "    .dataframe thead th {\n",
       "        text-align: right;\n",
       "    }\n",
       "</style>\n",
       "<table border=\"1\" class=\"dataframe\">\n",
       "  <thead>\n",
       "    <tr style=\"text-align: right;\">\n",
       "      <th></th>\n",
       "      <th>param_rf__n_estimators</th>\n",
       "      <th>param_rf__max_depth</th>\n",
       "      <th>std_train_r2</th>\n",
       "      <th>mean_train_r2</th>\n",
       "      <th>std_validation_r2</th>\n",
       "      <th>mean_validation_r2</th>\n",
       "      <th>std_train_MSE</th>\n",
       "      <th>mean_train_MSE</th>\n",
       "      <th>std_validation_MSE</th>\n",
       "      <th>mean_validation_MSE</th>\n",
       "      <th>Model</th>\n",
       "    </tr>\n",
       "  </thead>\n",
       "  <tbody>\n",
       "    <tr>\n",
       "      <th>6</th>\n",
       "      <td>100</td>\n",
       "      <td>5</td>\n",
       "      <td>0.027598</td>\n",
       "      <td>0.255937</td>\n",
       "      <td>0.024927</td>\n",
       "      <td>0.031703</td>\n",
       "      <td>0.000262</td>\n",
       "      <td>0.002922</td>\n",
       "      <td>0.000490</td>\n",
       "      <td>0.003792</td>\n",
       "      <td>rf</td>\n",
       "    </tr>\n",
       "    <tr>\n",
       "      <th>7</th>\n",
       "      <td>10</td>\n",
       "      <td>5</td>\n",
       "      <td>0.031000</td>\n",
       "      <td>0.256159</td>\n",
       "      <td>0.060740</td>\n",
       "      <td>-0.002467</td>\n",
       "      <td>0.000235</td>\n",
       "      <td>0.002918</td>\n",
       "      <td>0.000521</td>\n",
       "      <td>0.003923</td>\n",
       "      <td>rf</td>\n",
       "    </tr>\n",
       "  </tbody>\n",
       "</table>\n",
       "</div>"
      ],
      "text/plain": [
       "  param_rf__n_estimators param_rf__max_depth  std_train_r2  mean_train_r2  \\\n",
       "6                    100                   5      0.027598       0.255937   \n",
       "7                     10                   5      0.031000       0.256159   \n",
       "\n",
       "   std_validation_r2  mean_validation_r2  std_train_MSE  mean_train_MSE  \\\n",
       "6           0.024927            0.031703       0.000262        0.002922   \n",
       "7           0.060740           -0.002467       0.000235        0.002918   \n",
       "\n",
       "   std_validation_MSE  mean_validation_MSE Model  \n",
       "6            0.000490             0.003792    rf  \n",
       "7            0.000521             0.003923    rf  "
      ]
     },
     "execution_count": 57,
     "metadata": {},
     "output_type": "execute_result"
    }
   ],
   "source": [
    "result_rf = sortout_data(params_rf[0], grid_rf, random_search_rf, log=False)\n",
    "result_rf"
   ]
  },
  {
   "cell_type": "code",
   "execution_count": 53,
   "id": "01a68464",
   "metadata": {},
   "outputs": [
    {
     "name": "stdout",
     "output_type": "stream",
     "text": [
      "The test_r2 for rf based on best parameter from grid search: 0.0352\n",
      "The test_MSE for rf  based on best parameter from grid search: 0.006386\n"
     ]
    }
   ],
   "source": [
    "# Apply the results of the optimized grid search to the test data\n",
    "#R2\n",
    "rf_test_score = random_search_rf.score(X_te, y_te)\n",
    "print('The test_r2 for rf based on best parameter from grid search: {:.4f}'.format(rf_test_score))\n",
    "\n",
    "#MSE\n",
    "y_pred_rf= result_rf_grid.predict(X_te)\n",
    "print('The test_MSE for rf  based on best parameter from grid search: {:.6f}'.format(MSE(y_pred_rf,y_te)))"
   ]
  },
  {
   "cell_type": "code",
   "execution_count": 54,
   "id": "98528bae",
   "metadata": {},
   "outputs": [
    {
     "data": {
      "text/html": [
       "<div>\n",
       "<style scoped>\n",
       "    .dataframe tbody tr th:only-of-type {\n",
       "        vertical-align: middle;\n",
       "    }\n",
       "\n",
       "    .dataframe tbody tr th {\n",
       "        vertical-align: top;\n",
       "    }\n",
       "\n",
       "    .dataframe thead th {\n",
       "        text-align: right;\n",
       "    }\n",
       "</style>\n",
       "<table border=\"1\" class=\"dataframe\">\n",
       "  <thead>\n",
       "    <tr style=\"text-align: right;\">\n",
       "      <th></th>\n",
       "      <th>Model</th>\n",
       "      <th>mean_test_r2</th>\n",
       "      <th>mean_test_MSE</th>\n",
       "    </tr>\n",
       "  </thead>\n",
       "  <tbody>\n",
       "    <tr>\n",
       "      <th>0</th>\n",
       "      <td>rf</td>\n",
       "      <td>0.035193</td>\n",
       "      <td>0.006386</td>\n",
       "    </tr>\n",
       "  </tbody>\n",
       "</table>\n",
       "</div>"
      ],
      "text/plain": [
       "  Model  mean_test_r2  mean_test_MSE\n",
       "0    rf      0.035193       0.006386"
      ]
     },
     "execution_count": 54,
     "metadata": {},
     "output_type": "execute_result"
    }
   ],
   "source": [
    "results_rf_test = pd.DataFrame({'Model':'rf',\n",
    "                                'mean_test_r2':[rf_test_score],\n",
    "                                'mean_test_MSE':[MSE(y_pred_rf,y_te)]})\n",
    "results_rf_test"
   ]
  },
  {
   "cell_type": "code",
   "execution_count": 55,
   "id": "96638cab",
   "metadata": {},
   "outputs": [
    {
     "data": {
      "text/html": [
       "<div>\n",
       "<style scoped>\n",
       "    .dataframe tbody tr th:only-of-type {\n",
       "        vertical-align: middle;\n",
       "    }\n",
       "\n",
       "    .dataframe tbody tr th {\n",
       "        vertical-align: top;\n",
       "    }\n",
       "\n",
       "    .dataframe thead th {\n",
       "        text-align: right;\n",
       "    }\n",
       "</style>\n",
       "<table border=\"1\" class=\"dataframe\">\n",
       "  <thead>\n",
       "    <tr style=\"text-align: right;\">\n",
       "      <th></th>\n",
       "      <th>Model</th>\n",
       "      <th>param_rf__n_estimators</th>\n",
       "      <th>param_rf__max_depth</th>\n",
       "      <th>mean_train_r2</th>\n",
       "      <th>std_train_r2</th>\n",
       "      <th>mean_validation_r2</th>\n",
       "      <th>std_validation_r2</th>\n",
       "      <th>mean_test_r2</th>\n",
       "      <th>mean_train_MSE</th>\n",
       "      <th>std_train_MSE</th>\n",
       "      <th>mean_validation_MSE</th>\n",
       "      <th>std_validation_MSE</th>\n",
       "      <th>mean_test_MSE</th>\n",
       "    </tr>\n",
       "  </thead>\n",
       "  <tbody>\n",
       "    <tr>\n",
       "      <th>0</th>\n",
       "      <td>rf</td>\n",
       "      <td>100</td>\n",
       "      <td>5</td>\n",
       "      <td>0.255937</td>\n",
       "      <td>0.027598</td>\n",
       "      <td>0.031703</td>\n",
       "      <td>0.024927</td>\n",
       "      <td>0.035193</td>\n",
       "      <td>0.002922</td>\n",
       "      <td>0.000262</td>\n",
       "      <td>0.003792</td>\n",
       "      <td>0.000490</td>\n",
       "      <td>0.006386</td>\n",
       "    </tr>\n",
       "    <tr>\n",
       "      <th>1</th>\n",
       "      <td>rf</td>\n",
       "      <td>10</td>\n",
       "      <td>5</td>\n",
       "      <td>0.256159</td>\n",
       "      <td>0.031000</td>\n",
       "      <td>-0.002467</td>\n",
       "      <td>0.060740</td>\n",
       "      <td>0.035193</td>\n",
       "      <td>0.002918</td>\n",
       "      <td>0.000235</td>\n",
       "      <td>0.003923</td>\n",
       "      <td>0.000521</td>\n",
       "      <td>0.006386</td>\n",
       "    </tr>\n",
       "  </tbody>\n",
       "</table>\n",
       "</div>"
      ],
      "text/plain": [
       "  Model param_rf__n_estimators param_rf__max_depth  mean_train_r2  \\\n",
       "0    rf                    100                   5       0.255937   \n",
       "1    rf                     10                   5       0.256159   \n",
       "\n",
       "   std_train_r2  mean_validation_r2  std_validation_r2  mean_test_r2  \\\n",
       "0      0.027598            0.031703           0.024927      0.035193   \n",
       "1      0.031000           -0.002467           0.060740      0.035193   \n",
       "\n",
       "   mean_train_MSE  std_train_MSE  mean_validation_MSE  std_validation_MSE  \\\n",
       "0        0.002922       0.000262             0.003792            0.000490   \n",
       "1        0.002918       0.000235             0.003923            0.000521   \n",
       "\n",
       "   mean_test_MSE  \n",
       "0       0.006386  \n",
       "1       0.006386  "
      ]
     },
     "execution_count": 55,
     "metadata": {},
     "output_type": "execute_result"
    }
   ],
   "source": [
    "results_rf = result_rf.merge(results_rf_test,how='left', left_on='Model', right_on='Model')\n",
    "# Rearrange the columns\n",
    "cols=  ['Model', 'param_rf__n_estimators','param_rf__max_depth', 'mean_train_r2', 'std_train_r2','mean_validation_r2','std_validation_r2',\n",
    "        'mean_test_r2','mean_train_MSE','std_train_MSE','mean_validation_MSE', 'std_validation_MSE', 'mean_test_MSE']\n",
    "results_rf = results_rf[cols]\n",
    "results_rf"
   ]
  },
  {
   "cell_type": "markdown",
   "id": "6bd49be4",
   "metadata": {},
   "source": [
    "> **Remarks**:\n",
    "<br> - We saw a tendency to overfit in the previous models; the actual random forest is a random and non-linear algorithm reducing the variance by averaging the prediction from several instances as it trains on different samples of the dataset (averaging method of the variance). \n",
    "<br> - The grid search optimization has been done on multi-parameters such as `max_depth` represenitng the depth of the trees and `n_estimator` which is the number of trees. As a result, the optimization is around 5 and 100, respectively. The more we increase `max_depth`, the more complex the model is and the worst the results are.\n",
    "<br> - The results are a very high training dataset and very low validation dataset, as if the model doesn't learn from the data and has a very high bias. The curves fluctuate between extreme values, meaning the optimum values could jump significantly. Is it an artefact? It seems that it is not reproducible. \n",
    "<br> - The r2 and MSE values on the test data give a slightly better compared to other models but again the model does not perform well for fitting the data."
   ]
  },
  {
   "cell_type": "markdown",
   "id": "e7d44304",
   "metadata": {},
   "source": [
    "### 3.13.Gradient Boosting"
   ]
  },
  {
   "cell_type": "code",
   "execution_count": 61,
   "id": "d07d70e1",
   "metadata": {},
   "outputs": [],
   "source": [
    "from sklearn.ensemble import GradientBoostingRegressor"
   ]
  },
  {
   "cell_type": "code",
   "execution_count": 62,
   "id": "a3a56350",
   "metadata": {},
   "outputs": [],
   "source": [
    "# Create a pipeline and a gridsearch\n",
    "pipe_gbr= Pipeline([\n",
    "    ('scale',scale),\n",
    "    ('gbr', GradientBoostingRegressor())\n",
    "])\n",
    "GradientBoostingRegressor\n",
    "max_depth_values = np.arange(1,100,2)\n",
    "#max_depth_values = np.logspace(-1, 4, num=50)\n",
    "n_estimator_values = [1,10,100]\n",
    "learning_rate = [0.1,1]\n",
    "\n",
    "\n",
    "grid_gbr ={\n",
    "    'gbr__max_depth': max_depth_values,\n",
    "    'gbr__n_estimators': n_estimator_values,\n",
    "    'gbr__learning_rate':learning_rate\n",
    "\n",
    "}"
   ]
  },
  {
   "cell_type": "code",
   "execution_count": 63,
   "id": "2eef5ba2",
   "metadata": {},
   "outputs": [
    {
     "data": {
      "text/plain": [
       "['memory',\n",
       " 'steps',\n",
       " 'scale',\n",
       " 'gbr',\n",
       " 'scale__copy',\n",
       " 'scale__with_mean',\n",
       " 'scale__with_std',\n",
       " 'gbr__alpha',\n",
       " 'gbr__criterion',\n",
       " 'gbr__init',\n",
       " 'gbr__learning_rate',\n",
       " 'gbr__loss',\n",
       " 'gbr__max_depth',\n",
       " 'gbr__max_features',\n",
       " 'gbr__max_leaf_nodes',\n",
       " 'gbr__min_impurity_decrease',\n",
       " 'gbr__min_impurity_split',\n",
       " 'gbr__min_samples_leaf',\n",
       " 'gbr__min_samples_split',\n",
       " 'gbr__min_weight_fraction_leaf',\n",
       " 'gbr__n_estimators',\n",
       " 'gbr__n_iter_no_change',\n",
       " 'gbr__presort',\n",
       " 'gbr__random_state',\n",
       " 'gbr__subsample',\n",
       " 'gbr__tol',\n",
       " 'gbr__validation_fraction',\n",
       " 'gbr__verbose',\n",
       " 'gbr__warm_start']"
      ]
     },
     "execution_count": 63,
     "metadata": {},
     "output_type": "execute_result"
    }
   ],
   "source": [
    "list(pipe_gbr.get_params())"
   ]
  },
  {
   "cell_type": "code",
   "execution_count": 64,
   "id": "ac6d5154",
   "metadata": {},
   "outputs": [
    {
     "name": "stdout",
     "output_type": "stream",
     "text": [
      "Fitting 3 folds for each of 10 candidates, totalling 30 fits\n"
     ]
    },
    {
     "name": "stderr",
     "output_type": "stream",
     "text": [
      "[Parallel(n_jobs=-1)]: Using backend LokyBackend with 8 concurrent workers.\n",
      "/Users/jeromeaubry/anaconda3/envs/exts-ml/lib/python3.6/site-packages/sklearn/externals/joblib/numpy_pickle.py:104: DeprecationWarning: tostring() is deprecated. Use tobytes() instead.\n",
      "  pickler.file_handle.write(chunk.tostring('C'))\n",
      "/Users/jeromeaubry/anaconda3/envs/exts-ml/lib/python3.6/site-packages/sklearn/externals/joblib/numpy_pickle.py:104: DeprecationWarning: tostring() is deprecated. Use tobytes() instead.\n",
      "  pickler.file_handle.write(chunk.tostring('C'))\n",
      "/Users/jeromeaubry/anaconda3/envs/exts-ml/lib/python3.6/site-packages/sklearn/externals/joblib/numpy_pickle.py:104: DeprecationWarning: tostring() is deprecated. Use tobytes() instead.\n",
      "  pickler.file_handle.write(chunk.tostring('C'))\n",
      "/Users/jeromeaubry/anaconda3/envs/exts-ml/lib/python3.6/site-packages/sklearn/externals/joblib/numpy_pickle.py:104: DeprecationWarning: tostring() is deprecated. Use tobytes() instead.\n",
      "  pickler.file_handle.write(chunk.tostring('C'))\n",
      "[Parallel(n_jobs=-1)]: Done   2 tasks      | elapsed:   32.3s\n",
      "[Parallel(n_jobs=-1)]: Done   9 tasks      | elapsed:  4.4min\n",
      "[Parallel(n_jobs=-1)]: Done  19 out of  30 | elapsed:  6.2min remaining:  3.6min\n",
      "[Parallel(n_jobs=-1)]: Done  23 out of  30 | elapsed:  7.5min remaining:  2.3min\n",
      "[Parallel(n_jobs=-1)]: Done  27 out of  30 | elapsed:  9.3min remaining:  1.0min\n",
      "[Parallel(n_jobs=-1)]: Done  30 out of  30 | elapsed: 10.8min finished\n"
     ]
    }
   ],
   "source": [
    "random_search_gbr = RandomizedSearchCV(pipe_gbr,grid_gbr, cv=3, verbose=10, n_jobs=-1, refit='r2',  #Maximize r2\n",
    "                                 random_state=random_state, return_train_score=True, scoring=['neg_mean_squared_error', 'r2']) # Sort out, optimize r2 and MSE\n",
    "\n",
    "result_gbr_grid = random_search_gbr.fit(X_tr,y_tr)"
   ]
  },
  {
   "cell_type": "code",
   "execution_count": 65,
   "id": "c8d7bea6",
   "metadata": {},
   "outputs": [
    {
     "name": "stdout",
     "output_type": "stream",
     "text": [
      "Best parameters: {'gbr__n_estimators': 100, 'gbr__max_depth': 47, 'gbr__learning_rate': 0.1}\n",
      "--------------------------------------------------\n",
      "Best estimators: Pipeline(memory=None,\n",
      "     steps=[('scale', StandardScaler(copy=True, with_mean=True, with_std=True)), ('gbr', GradientBoostingRegressor(alpha=0.9, criterion='friedman_mse', init=None,\n",
      "             learning_rate=0.1, loss='ls', max_depth=47, max_features=None,\n",
      "             max_leaf_nodes=None, min_impurity_decrease=0.0,\n",
      "     ...one, subsample=1.0, tol=0.0001,\n",
      "             validation_fraction=0.1, verbose=0, warm_start=False))])\n",
      "--------------------------------------------------\n",
      "Best score: -0.9889407752662336\n",
      "--------------------------------------------------\n"
     ]
    },
    {
     "data": {
      "text/plain": [
       "['gbr__learning_rate', 'gbr__max_depth', 'gbr__n_estimators']"
      ]
     },
     "execution_count": 65,
     "metadata": {},
     "output_type": "execute_result"
    }
   ],
   "source": [
    "# Sortout the best parameters\n",
    "params_gbr = sortout_params(grid_gbr, random_search_gbr)\n",
    "params_gbr"
   ]
  },
  {
   "cell_type": "code",
   "execution_count": 66,
   "id": "8c204e33",
   "metadata": {},
   "outputs": [
    {
     "data": {
      "image/png": "[encoded data removed]",
      "text/plain": [
       "<Figure size 1152x432 with 2 Axes>"
      ]
     },
     "metadata": {},
     "output_type": "display_data"
    },
    {
     "name": "stderr",
     "output_type": "stream",
     "text": [
      "/Users/jeromeaubry/anaconda3/envs/exts-ml/lib/python3.6/site-packages/ipykernel_launcher.py:109: SettingWithCopyWarning: \n",
      "A value is trying to be set on a copy of a slice from a DataFrame.\n",
      "Try using .loc[row_indexer,col_indexer] = value instead\n",
      "\n",
      "See the caveats in the documentation: http://pandas.pydata.org/pandas-docs/stable/indexing.html#indexing-view-versus-copy\n"
     ]
    },
    {
     "data": {
      "text/html": [
       "<div>\n",
       "<style scoped>\n",
       "    .dataframe tbody tr th:only-of-type {\n",
       "        vertical-align: middle;\n",
       "    }\n",
       "\n",
       "    .dataframe tbody tr th {\n",
       "        vertical-align: top;\n",
       "    }\n",
       "\n",
       "    .dataframe thead th {\n",
       "        text-align: right;\n",
       "    }\n",
       "</style>\n",
       "<table border=\"1\" class=\"dataframe\">\n",
       "  <thead>\n",
       "    <tr style=\"text-align: right;\">\n",
       "      <th></th>\n",
       "      <th>param_gbr__n_estimators</th>\n",
       "      <th>param_gbr__max_depth</th>\n",
       "      <th>param_gbr__learning_rate</th>\n",
       "      <th>std_train_r2</th>\n",
       "      <th>mean_train_r2</th>\n",
       "      <th>std_validation_r2</th>\n",
       "      <th>mean_validation_r2</th>\n",
       "      <th>std_train_MSE</th>\n",
       "      <th>mean_train_MSE</th>\n",
       "      <th>std_validation_MSE</th>\n",
       "      <th>mean_validation_MSE</th>\n",
       "      <th>Model</th>\n",
       "    </tr>\n",
       "  </thead>\n",
       "  <tbody>\n",
       "    <tr>\n",
       "      <th>0</th>\n",
       "      <td>100</td>\n",
       "      <td>47</td>\n",
       "      <td>0.1</td>\n",
       "      <td>0.003232</td>\n",
       "      <td>0.992005</td>\n",
       "      <td>0.081339</td>\n",
       "      <td>-0.988941</td>\n",
       "      <td>0.000015</td>\n",
       "      <td>0.000032</td>\n",
       "      <td>0.001099</td>\n",
       "      <td>0.007799</td>\n",
       "      <td>gbr</td>\n",
       "    </tr>\n",
       "  </tbody>\n",
       "</table>\n",
       "</div>"
      ],
      "text/plain": [
       "  param_gbr__n_estimators param_gbr__max_depth param_gbr__learning_rate  \\\n",
       "0                     100                   47                      0.1   \n",
       "\n",
       "   std_train_r2  mean_train_r2  std_validation_r2  mean_validation_r2  \\\n",
       "0      0.003232       0.992005           0.081339           -0.988941   \n",
       "\n",
       "   std_train_MSE  mean_train_MSE  std_validation_MSE  mean_validation_MSE  \\\n",
       "0       0.000015        0.000032            0.001099             0.007799   \n",
       "\n",
       "  Model  \n",
       "0   gbr  "
      ]
     },
     "execution_count": 66,
     "metadata": {},
     "output_type": "execute_result"
    }
   ],
   "source": [
    "result_gbr = sortout_data(params_gbr[1], grid_gbr, random_search_gbr, log=False)\n",
    "result_gbr "
   ]
  },
  {
   "cell_type": "code",
   "execution_count": 67,
   "id": "b4ba91d9",
   "metadata": {},
   "outputs": [
    {
     "name": "stdout",
     "output_type": "stream",
     "text": [
      "The test_r2 for rf based on best parameter from grid search: -0.3367\n",
      "The test_MSE for rf  based on best parameter from grid search: 0.008847\n"
     ]
    }
   ],
   "source": [
    "# Apply the results of the optimized grid search to the test data\n",
    "#R2\n",
    "gbr_test_score = random_search_gbr.score(X_te, y_te)\n",
    "print('The test_r2 for rf based on best parameter from grid search: {:.4f}'.format(gbr_test_score))\n",
    "\n",
    "#MSE\n",
    "y_pred_gbr= result_gbr_grid.predict(X_te)\n",
    "print('The test_MSE for rf  based on best parameter from grid search: {:.6f}'.format(MSE(y_pred_gbr,y_te)))"
   ]
  },
  {
   "cell_type": "code",
   "execution_count": 68,
   "id": "1c830a20",
   "metadata": {},
   "outputs": [
    {
     "data": {
      "text/html": [
       "<div>\n",
       "<style scoped>\n",
       "    .dataframe tbody tr th:only-of-type {\n",
       "        vertical-align: middle;\n",
       "    }\n",
       "\n",
       "    .dataframe tbody tr th {\n",
       "        vertical-align: top;\n",
       "    }\n",
       "\n",
       "    .dataframe thead th {\n",
       "        text-align: right;\n",
       "    }\n",
       "</style>\n",
       "<table border=\"1\" class=\"dataframe\">\n",
       "  <thead>\n",
       "    <tr style=\"text-align: right;\">\n",
       "      <th></th>\n",
       "      <th>Model</th>\n",
       "      <th>mean_test_r2</th>\n",
       "      <th>mean_test_MSE</th>\n",
       "    </tr>\n",
       "  </thead>\n",
       "  <tbody>\n",
       "    <tr>\n",
       "      <th>0</th>\n",
       "      <td>gbr</td>\n",
       "      <td>-0.336708</td>\n",
       "      <td>0.008847</td>\n",
       "    </tr>\n",
       "  </tbody>\n",
       "</table>\n",
       "</div>"
      ],
      "text/plain": [
       "  Model  mean_test_r2  mean_test_MSE\n",
       "0   gbr     -0.336708       0.008847"
      ]
     },
     "execution_count": 68,
     "metadata": {},
     "output_type": "execute_result"
    }
   ],
   "source": [
    "results_gbr_test = pd.DataFrame({'Model':'gbr',\n",
    "                                   'mean_test_r2':[gbr_test_score],\n",
    "                                   'mean_test_MSE':[MSE(y_pred_gbr,y_te)]})\n",
    "results_gbr_test"
   ]
  },
  {
   "cell_type": "code",
   "execution_count": 69,
   "id": "dd39b36e",
   "metadata": {},
   "outputs": [
    {
     "data": {
      "text/html": [
       "<div>\n",
       "<style scoped>\n",
       "    .dataframe tbody tr th:only-of-type {\n",
       "        vertical-align: middle;\n",
       "    }\n",
       "\n",
       "    .dataframe tbody tr th {\n",
       "        vertical-align: top;\n",
       "    }\n",
       "\n",
       "    .dataframe thead th {\n",
       "        text-align: right;\n",
       "    }\n",
       "</style>\n",
       "<table border=\"1\" class=\"dataframe\">\n",
       "  <thead>\n",
       "    <tr style=\"text-align: right;\">\n",
       "      <th></th>\n",
       "      <th>Model</th>\n",
       "      <th>param_gbr__n_estimators</th>\n",
       "      <th>param_gbr__max_depth</th>\n",
       "      <th>param_gbr__learning_rate</th>\n",
       "      <th>mean_train_r2</th>\n",
       "      <th>std_train_r2</th>\n",
       "      <th>mean_validation_r2</th>\n",
       "      <th>std_validation_r2</th>\n",
       "      <th>mean_test_r2</th>\n",
       "      <th>mean_train_MSE</th>\n",
       "      <th>std_train_MSE</th>\n",
       "      <th>mean_validation_MSE</th>\n",
       "      <th>std_validation_MSE</th>\n",
       "      <th>mean_test_MSE</th>\n",
       "    </tr>\n",
       "  </thead>\n",
       "  <tbody>\n",
       "    <tr>\n",
       "      <th>0</th>\n",
       "      <td>gbr</td>\n",
       "      <td>100</td>\n",
       "      <td>47</td>\n",
       "      <td>0.1</td>\n",
       "      <td>0.992005</td>\n",
       "      <td>0.003232</td>\n",
       "      <td>-0.988941</td>\n",
       "      <td>0.081339</td>\n",
       "      <td>-0.336708</td>\n",
       "      <td>0.000032</td>\n",
       "      <td>0.000015</td>\n",
       "      <td>0.007799</td>\n",
       "      <td>0.001099</td>\n",
       "      <td>0.008847</td>\n",
       "    </tr>\n",
       "  </tbody>\n",
       "</table>\n",
       "</div>"
      ],
      "text/plain": [
       "  Model param_gbr__n_estimators param_gbr__max_depth param_gbr__learning_rate  \\\n",
       "0   gbr                     100                   47                      0.1   \n",
       "\n",
       "   mean_train_r2  std_train_r2  mean_validation_r2  std_validation_r2  \\\n",
       "0       0.992005      0.003232           -0.988941           0.081339   \n",
       "\n",
       "   mean_test_r2  mean_train_MSE  std_train_MSE  mean_validation_MSE  \\\n",
       "0     -0.336708        0.000032       0.000015             0.007799   \n",
       "\n",
       "   std_validation_MSE  mean_test_MSE  \n",
       "0            0.001099       0.008847  "
      ]
     },
     "execution_count": 69,
     "metadata": {},
     "output_type": "execute_result"
    }
   ],
   "source": [
    "results_gbr = result_gbr.merge(results_gbr_test,how='left', left_on='Model', right_on='Model')\n",
    "# Rearrange the columns\n",
    "cols=  ['Model', 'param_gbr__n_estimators', 'param_gbr__max_depth', 'param_gbr__learning_rate','mean_train_r2', 'std_train_r2','mean_validation_r2','std_validation_r2',\n",
    "        'mean_test_r2','mean_train_MSE','std_train_MSE','mean_validation_MSE', 'std_validation_MSE', 'mean_test_MSE']\n",
    "results_gbr = results_gbr[cols]\n",
    "results_gbr"
   ]
  },
  {
   "cell_type": "markdown",
   "id": "add14404",
   "metadata": {},
   "source": [
    "> **Remarks**:\n",
    "<br> - It has been decided to test a new method apart from the one seen in the course. A reasonable approach was to consider the model ?`GradienBoostingRegressor`, which could be seen as an extension of the model RandomForestRegressor. \n",
    "<br> - Indeed, the algo works sequentially by adding predictors to an ensemble, each one correcting the predecessor. The hyperparameters are similar to the ones from the RandomeForest, i.e.`max_depth` for the depth of the trees and the number of trees is represented by `n_estimators`. In addition, the parameter `learning_rate`\n",
    " scales the contribution to each tree; a low value means more trees in the ensemble for fitting the training data. \n",
    "<br> - As a result, we obtain similar results to the random forest, i.e. a huge gap between the train data and the validation data as the model doesn't learn from the data, huge bias, and, suddenly, a small jump of the curve where the optimum is set to `n_estimator`=100 (one tree), `max_dept`= 47 with `learing_rate`=0.1 but not reproducible at all. The model is not suitable at all for the present data."
   ]
  },
  {
   "cell_type": "markdown",
   "id": "b354be6d",
   "metadata": {},
   "source": [
    "### 3.14 Save Results"
   ]
  },
  {
   "cell_type": "code",
   "execution_count": null,
   "id": "fe5a38ad",
   "metadata": {},
   "outputs": [],
   "source": [
    "# Save the Baseline\n",
    "results_baseline.to_csv ('baseline.csv', encoding='utf-8', float_format='%.4f', index=False)\n",
    "\n",
    "# Save the lr results\n",
    "results_lr.to_csv ('lr_option3_EDA_1.csv', encoding='utf-8', float_format='%.4f', index=False)\n",
    "\n",
    "# Save Ridge Results\n",
    "results_Ridge.to_csv('lr_Ridge_option3_EDA_1.csv', encoding='utf-8', float_format='%.4f', index=False)\n",
    "\n",
    "# Save Knn Results\n",
    "#results_knn.to_csv('knn_option3_EDA.csv', encoding='utf-8', float_format='%.4f', index=False)\n",
    "\n",
    "#Save SVR Results\n",
    "results_SVR.to_csv('SVR_option3_EDA_1.csv', encoding='utf-8', float_format ='%.4f', index=False)\n",
    "\n",
    "#Save rf results\n",
    "results_rf.to_csv('RandomForest_3_EDA_1.csv', encoding='utf-8', float_format ='%.4f', index=False)\n",
    "\n",
    "#Save gbr results\n",
    "results_gbr.to_csv('GradienBoostingRegressor_3_EDA_1.csv', encoding='utf-8', float_format ='%.4f', index=False)"
   ]
  }
 ],
 "metadata": {
  "kernelspec": {
   "display_name": "Python 3",
   "language": "python",
   "name": "python3"
  },
  "language_info": {
   "codemirror_mode": {
    "name": "ipython",
    "version": 3
   },
   "file_extension": ".py",
   "mimetype": "text/x-python",
   "name": "python",
   "nbconvert_exporter": "python",
   "pygments_lexer": "ipython3",
   "version": "3.6.13"
  }
 },
 "nbformat": 4,
 "nbformat_minor": 5
}
