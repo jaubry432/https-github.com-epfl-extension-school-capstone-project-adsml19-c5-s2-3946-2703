{
 "cells": [
  {
   "cell_type": "markdown",
   "id": "ff947cdd",
   "metadata": {},
   "source": [
    "## 3) First Machine Learning Model"
   ]
  },
  {
   "cell_type": "markdown",
   "id": "95d78c38",
   "metadata": {},
   "source": [
    "**The table of contents**:\n",
    "<br> 3.10 - K-NN\n",
    "<br> 3.11 - Save Results"
   ]
  },
  {
   "cell_type": "markdown",
   "id": "10800b99",
   "metadata": {},
   "source": [
    "### 3.1. Import Libraries"
   ]
  },
  {
   "cell_type": "code",
   "execution_count": 1,
   "id": "5e22597f",
   "metadata": {},
   "outputs": [],
   "source": [
    "# Import librairies\n",
    "import os\n",
    "import pandas as pd\n",
    "import numpy as np\n",
    "\n",
    "#import matplotlib\n",
    "import matplotlib.pyplot as plt\n",
    "import seaborn as sns\n",
    "\n",
    "from scipy.stats import randint"
   ]
  },
  {
   "cell_type": "code",
   "execution_count": 2,
   "id": "c251e248",
   "metadata": {},
   "outputs": [],
   "source": [
    "# Import the necessary librairires for model fitting.\n",
    "\n",
    "from sklearn.feature_selection import SelectKBest,f_regression\n",
    "from sklearn.metrics import r2_score \n",
    "from sklearn.model_selection import train_test_split\n",
    "from sklearn.preprocessing import StandardScaler\n",
    "from sklearn.pipeline import Pipeline\n",
    "from sklearn.model_selection import GridSearchCV, RandomizedSearchCV\n",
    "#\n",
    "\n",
    "\n",
    "import warnings\n",
    "from scipy.linalg import LinAlgWarning"
   ]
  },
  {
   "cell_type": "code",
   "execution_count": 3,
   "id": "05b08f6d",
   "metadata": {},
   "outputs": [],
   "source": [
    "# Take seaborn as preference graphic interface\n",
    "sns.set()"
   ]
  },
  {
   "cell_type": "code",
   "execution_count": 4,
   "id": "a4a50547",
   "metadata": {},
   "outputs": [
    {
     "data": {
      "text/plain": [
       "'/Users/jeromeaubry/Chap5.1-Proposal-Capstone/Data/US_Pesticide/2015PDPDatabase/SaveModels'"
      ]
     },
     "execution_count": 4,
     "metadata": {},
     "output_type": "execute_result"
    }
   ],
   "source": [
    "# Load Main data & Save Models in the following folders\n",
    "path_main_save = '/Users/jeromeaubry/Chap5.1-Proposal-Capstone/Data/'\n",
    "path_secondary_save = 'US_Pesticide/2015PDPDatabase/SaveModels/'\n",
    "\n",
    "path_save = os.path.join(path_main_save,path_secondary_save)\n",
    "os.chdir(path_save)\n",
    "os.getcwd()"
   ]
  },
  {
   "cell_type": "markdown",
   "id": "ee09b2c2",
   "metadata": {},
   "source": [
    "### 3.2 General Functions for ML Models"
   ]
  },
  {
   "cell_type": "code",
   "execution_count": 5,
   "id": "5194c221",
   "metadata": {},
   "outputs": [],
   "source": [
    "def sortout_data(parameter, grid, grid_search, log=False):\n",
    "\n",
    "    #Prepare the dataframe based on cv_results._keys()\n",
    "    \n",
    "    items_col = ['mean_test_neg_mean_squared_error','std_test_neg_mean_squared_error',\n",
    "                 'mean_train_neg_mean_squared_error','std_train_neg_mean_squared_error',\n",
    "                'mean_test_r2', 'std_test_r2','mean_train_r2','std_train_r2']\n",
    "\n",
    "    cols = []\n",
    "\n",
    "    for item in items_col:\n",
    "        if item not in cols:\n",
    "            cols.append(item)\n",
    "    \n",
    "    # Incorporate the paramaters from the grid to the cv_results dataframe\n",
    "    \n",
    "    col_grid = list(grid.keys()) \n",
    "    col_grid = ['param_' + c for c in col_grid] # Add 'param_'\n",
    "    col_grid = sorted(col_grid)\n",
    "    cols.extend(col_grid) \n",
    "    cv_results = pd.DataFrame(grid_search.cv_results_)\n",
    "    cv_results = cv_results.loc[:, cols]\n",
    "    cv_results = cv_results.loc[:,::-1] # Reverse the columns\n",
    "    cv_results.columns = cv_results.columns.str.replace('neg_mean_squared_error','MSE')#rename the columns\n",
    "    \n",
    "    # Grid/RandomizeSearch displays negative values due to maximize per definition, when minimize negative values\n",
    "    cv_results[['mean_train_MSE','mean_test_MSE']] = cv_results[['mean_train_MSE','mean_test_MSE']].abs() #negative value into positive values\n",
    "    \n",
    "    for item in cv_results.columns: #Extract the columns name for the parameter\n",
    "        if ('param' in item):\n",
    "             # For example from param_Ridge__alpha: alpha; from Ridge__alpha:alpha check alpha=alpha\n",
    "                if (item.split('__')[1] == parameter.split('__')[1]): \n",
    "                    item_param = item\n",
    "        \n",
    "    grouped = cv_results.groupby(item_param) # Sort out the data based on parameters\n",
    "\n",
    "     # Train data -R2/MSE\n",
    "    mean_train_r2 = grouped.mean_train_r2.mean()\n",
    "    std_train_r2 = grouped.std_train_r2.mean()\n",
    "    mean_train_MSE = grouped.mean_train_MSE.mean()\n",
    "    std_train_MSE = grouped.std_train_MSE.mean()\n",
    "\n",
    "    #Test data -R2/MSE\n",
    "    mean_test_r2 = grouped.mean_test_r2.mean()\n",
    "    std_test_r2 = grouped.std_test_r2.mean()\n",
    "    mean_test_MSE = grouped.mean_test_MSE.mean()\n",
    "    std_test_MSE = grouped.std_test_MSE.mean()\n",
    "    \n",
    "    param = mean_test_r2.index.values # Gather the parameters for plotting\n",
    "    best_param= mean_test_r2.idxmax() # Extract the best_parameter for plotting\n",
    "\n",
    "    best_output = grouped.get_group(best_param) # Take the best values from the dataset based on best param\n",
    "    \n",
    "    fig, ax = plt.subplots(nrows=1, ncols=2, figsize=(16,6))\n",
    "    \n",
    "    # Plot R2/MSE vs parameter\n",
    "    if log==True:\n",
    "        # Logarithmn scale\n",
    "        ax[0].semilogx(param, mean_train_r2, color='blue', alpha=0.5, label='Train')\n",
    "        ax[0].semilogx(param, mean_test_r2, color='orange', alpha=0.5, label='Validation')\n",
    "        x_axis = 'log({})'.format(parameter)\n",
    "       \n",
    "        ax[1].semilogx(param, mean_train_MSE, color='blue', alpha=0.5, label='Train')\n",
    "        ax[1].semilogx(param, mean_test_MSE, color='orange', alpha=0.5, label='Validation')\n",
    "        \n",
    "    \n",
    "    else: # Not a logarithmn scale\n",
    "        ax[0].plot(param, mean_train_r2, alpha=.5, color='blue', label='Train')\n",
    "        ax[0].plot(param, mean_test_r2, alpha=.5, color='red', label='Validation')\n",
    "        x_axis = '{}'.format(parameter)\n",
    "        \n",
    "        ax[1].plot(param, mean_train_MSE, alpha=.5, color='blue', label='Train')\n",
    "        ax[1].plot(param, mean_test_MSE, alpha=.5, color='red', label='Validation')\n",
    "    \n",
    "\n",
    "    \n",
    "    # Plot R2\n",
    "    ax[0].fill_between(param, mean_train_r2 - std_train_r2,  mean_train_r2 + std_train_r2, alpha=0.5)\n",
    "    ax[0].fill_between(param, mean_test_r2 - std_test_r2,  mean_test_r2 + std_test_r2, alpha=0.5)\n",
    "    ax[0].scatter(best_param, mean_test_r2.max(), marker='x', color='red', zorder=10, label='Max_Validation')\n",
    "    ax[0].legend()\n",
    "    ax[0].set_xlabel(x_axis)\n",
    "    ax[0].set_ylabel('$R^2$')\n",
    "    ax[0].set_title('best valid accuracy with {}={:.0f} \\n gives  test_r2 = {:.3f} ± {:.3f} - mean/std'.\n",
    "                  format(parameter,\n",
    "                         grid_search.best_params_[parameter], \n",
    "                         mean_test_r2[best_param],\n",
    "                         std_test_r2[best_param]))\n",
    "\n",
    "    \n",
    "    # Plot MSE\n",
    "    ax[1].fill_between(param, mean_train_MSE - std_train_MSE,  mean_train_MSE + std_train_MSE, alpha=0.5)\n",
    "    ax[1].fill_between(param, mean_test_MSE- std_test_MSE,  mean_test_MSE + std_test_MSE, alpha=0.5)\n",
    "    ax[1].scatter(best_param, mean_test_MSE.min(), marker='x', color='red', zorder=10, label='Max_Validation')\n",
    "    ax[1].legend()\n",
    "    ax[1].set_xlabel(x_axis)\n",
    "    ax[1].set_ylabel('$MSE$')\n",
    "    ax[1].set_title('best MSE with {}={:.0f} \\n gives  test_MSE = {:.3f} ± {:.3f} - mean/std'.\n",
    "                  format(parameter,\n",
    "                         grid_search.best_params_[parameter],\n",
    "                         mean_test_MSE[best_param],\n",
    "                         std_test_MSE[best_param]))\n",
    "\n",
    "\n",
    "    plt.subplots_adjust(wspace=0.2, hspace=0.2) \n",
    "    plt.show()\n",
    "    \n",
    "    best_output.columns = cv_results.columns.str.replace('test','validation')#rename the columns\n",
    "    best_output['Model'] = parameter.split('__')[0] #Retrieve the name of the model\n",
    "    \n",
    "\n",
    "    return best_output"
   ]
  },
  {
   "cell_type": "code",
   "execution_count": 6,
   "id": "b0da0c42",
   "metadata": {},
   "outputs": [],
   "source": [
    "def sortout_params(grid, grid_search):\n",
    "    \n",
    "    print('Best parameters: {}'.format(grid_search.best_params_))\n",
    "    print('-'*50)\n",
    "    print('Best estimators: {}'. format(grid_search.best_estimator_))\n",
    "    print('-'*50)\n",
    "    print('Best score: {}'. format(grid_search.best_score_))\n",
    "    print('-'*50)\n",
    "    params = sorted(list(grid.keys())) #List the parameters from the grid for feeding the parameter from sortout_data function\n",
    "    \n",
    "    return params"
   ]
  },
  {
   "cell_type": "markdown",
   "id": "eae8935b",
   "metadata": {},
   "source": [
    "### 3.3 Load the data "
   ]
  },
  {
   "cell_type": "code",
   "execution_count": 7,
   "id": "e2a57efb",
   "metadata": {},
   "outputs": [
    {
     "name": "stdout",
     "output_type": "stream",
     "text": [
      "['data', 'target', 'labels']\n"
     ]
    }
   ],
   "source": [
    "# Load the data\n",
    "#with np.load('data_pesticides_binarycoding.npz', allow_pickle=True) as npz_data:\n",
    "with np.load('data_pesticides_option3_EDA_1.npz', allow_pickle=True) as npz_data:\n",
    "    print(list(npz_data.keys()))\n",
    "    df = dict(npz_data.items())\n",
    "    \n",
    "# option 1: Sample data: 38751 column 'concen' and take only non zeros values ()\n",
    "# option 2: All the data 2M (100% of the dataset, 98.5% 0-values, 1.5% non-zeros values)\n",
    "# option 3: Sample data: around 100'000 - 5% of the dataset (mix zeros and non zeros in same ratio than option2 )"
   ]
  },
  {
   "cell_type": "code",
   "execution_count": 8,
   "id": "6c8e9569",
   "metadata": {},
   "outputs": [],
   "source": [
    "# Define X and y values\n",
    "X = df['data']\n",
    "y = df['target']\n",
    "labels = df['labels']"
   ]
  },
  {
   "cell_type": "markdown",
   "id": "b71c7016",
   "metadata": {},
   "source": [
    "### 3.4 Cost Functions"
   ]
  },
  {
   "cell_type": "code",
   "execution_count": 9,
   "id": "486896d7",
   "metadata": {},
   "outputs": [],
   "source": [
    "def MSE(y,y_pred):\n",
    "    return np.mean(np.square(y-y_pred))"
   ]
  },
  {
   "cell_type": "code",
   "execution_count": 10,
   "id": "56f272a8",
   "metadata": {},
   "outputs": [],
   "source": [
    "# Define Mean Absokute Error \n",
    "def MAE (y,y_pred):\n",
    "    return np.mean(np.absolute(y-y_pred))"
   ]
  },
  {
   "cell_type": "code",
   "execution_count": 11,
   "id": "13aad02a",
   "metadata": {},
   "outputs": [],
   "source": [
    "def RSS (y,y_pred):\n",
    "    return np.sum(np.square(y-y_pred))"
   ]
  },
  {
   "cell_type": "code",
   "execution_count": 12,
   "id": "723767e8",
   "metadata": {},
   "outputs": [],
   "source": [
    "def R2 (y,y_pred):\n",
    "    return r2_score(y,y_pred)"
   ]
  },
  {
   "cell_type": "markdown",
   "id": "e2740098",
   "metadata": {},
   "source": [
    "> **Remarks**:\n",
    "<br> - The chosen cost function is MSE: Mean Square Error as being a metrics given enough statistical information\n",
    "<br> - Beside MSE; R2 will also be computed but as information only"
   ]
  },
  {
   "cell_type": "markdown",
   "id": "beb13871",
   "metadata": {},
   "source": [
    "### 3.5 Split Train/Test Data"
   ]
  },
  {
   "cell_type": "code",
   "execution_count": 13,
   "id": "da1b9652",
   "metadata": {},
   "outputs": [],
   "source": [
    "# Convert X as float \n",
    "X = X.astype(float)"
   ]
  },
  {
   "cell_type": "code",
   "execution_count": 14,
   "id": "247e8411",
   "metadata": {},
   "outputs": [],
   "source": [
    "# Split the data train/test for the simple model 70/30% train/test\n",
    "X_tr, X_te, y_tr, y_te = train_test_split(X,y, test_size=0.3, random_state=0)"
   ]
  },
  {
   "cell_type": "code",
   "execution_count": 15,
   "id": "a57800d9",
   "metadata": {},
   "outputs": [
    {
     "name": "stdout",
     "output_type": "stream",
     "text": [
      "--------------------------------------------------------------------------------\n",
      "Dimension of the train data: X_tr=(81431, 85); y_tr=(81431,)\n",
      "Dimension of the test data: X_te=(34899, 85); y_te=(34899,)\n",
      "--------------------------------------------------------------------------------\n",
      "Data type for the train data: X_tr=float64; y_tr=float64\n",
      "Data type for the test data: X_te=float64; y_te=float64\n",
      "--------------------------------------------------------------------------------\n"
     ]
    }
   ],
   "source": [
    "# Check out the dimension of the \n",
    "\n",
    "print('-'*80)\n",
    "print('Dimension of the train data: X_tr={}; y_tr={}'.format(X_tr.shape, y_tr.shape))\n",
    "print('Dimension of the test data: X_te={}; y_te={}'.format(X_te.shape, y_te.shape))\n",
    "print('-'*80)\n",
    "print('Data type for the train data: X_tr={}; y_tr={}'.format(X_tr.dtype, y_tr.dtype))\n",
    "print('Data type for the test data: X_te={}; y_te={}'.format(X_te.dtype, y_te.dtype))\n",
    "print('-'*80)"
   ]
  },
  {
   "cell_type": "code",
   "execution_count": 16,
   "id": "1b937376",
   "metadata": {},
   "outputs": [
    {
     "name": "stdout",
     "output_type": "stream",
     "text": [
      "Number of 0s value in train data: 80097 and in percent of the dataset 98.36%\n",
      "Number of non-0s value in train data: 1334 and in percent of the dataset 1.64%\n"
     ]
    }
   ],
   "source": [
    "# The rumber of 0s and non-0s values express in % per column of the train dataset\n",
    "\n",
    "y_tr_0s_vals = np.count_nonzero(y_tr==0)\n",
    "y_tr_no0s_vals = np.count_nonzero(y_tr!=0)\n",
    "\n",
    "print('Number of 0s value in train data: {} and in percent of the dataset {:.2f}%'. \n",
    "      format(y_tr_0s_vals, 100*y_tr_0s_vals/len(y_tr)))\n",
    "print('Number of non-0s value in train data: {} and in percent of the dataset {:.2f}%'. \n",
    "      format(y_tr_no0s_vals, 100*y_tr_no0s_vals/len(y_tr)))\n"
   ]
  },
  {
   "cell_type": "code",
   "execution_count": 17,
   "id": "5b37fecd",
   "metadata": {},
   "outputs": [
    {
     "name": "stdout",
     "output_type": "stream",
     "text": [
      "Number of 0s value in test data: 34310 and in percent of the dataset 98.31%\n",
      "Number of non-0s value in test data: 589 and in percent of the dataset 1.69%\n"
     ]
    }
   ],
   "source": [
    "# The rumber of 0s and non-0s values express in % per column of the test dataset\n",
    "\n",
    "y_te_0s_vals = np.count_nonzero(y_te==0)\n",
    "y_te_no0s_vals = np.count_nonzero(y_te!=0)\n",
    "\n",
    "print('Number of 0s value in test data: {} and in percent of the dataset {:.2f}%'. \n",
    "      format(y_te_0s_vals, 100*y_te_0s_vals/len(y_te)))\n",
    "print('Number of non-0s value in test data: {} and in percent of the dataset {:.2f}%'. \n",
    "      format(y_te_no0s_vals, 100*y_te_no0s_vals/len(y_te)))"
   ]
  },
  {
   "cell_type": "markdown",
   "id": "38ea2cc2",
   "metadata": {},
   "source": [
    "### 3.7 Data Preparation"
   ]
  },
  {
   "cell_type": "code",
   "execution_count": 18,
   "id": "1d93ecac",
   "metadata": {},
   "outputs": [],
   "source": [
    "# Scale the data between 0 and 1 for the pipeline models\n",
    "scale = StandardScaler()"
   ]
  },
  {
   "cell_type": "code",
   "execution_count": 19,
   "id": "fc5eca84",
   "metadata": {},
   "outputs": [],
   "source": [
    "# Use RandomState for reproducibility / not necessary could be random_state=1 for example, needs a value for reproducibility\n",
    "random_state = np.random.RandomState(42)"
   ]
  },
  {
   "cell_type": "markdown",
   "id": "9d6b057f",
   "metadata": {},
   "source": [
    "### 3.10 K-NN"
   ]
  },
  {
   "cell_type": "code",
   "execution_count": 20,
   "id": "f10e5ccb",
   "metadata": {},
   "outputs": [],
   "source": [
    "from sklearn.neighbors import KNeighborsRegressor"
   ]
  },
  {
   "cell_type": "code",
   "execution_count": 29,
   "id": "c6224f85",
   "metadata": {},
   "outputs": [],
   "source": [
    "#Create a pipeline\n",
    "pipe_knn = Pipeline([\n",
    "    ('scaler', scale), \n",
    "    ('knn', KNeighborsRegressor(algorithm='brute')) \n",
    "])\n",
    "\n",
    "# Create a grid search\n",
    "k_values = np.arange(1,121,20)\n",
    "\n",
    "grid_knn = {\n",
    "    'knn__n_neighbors': k_values,\n",
    "    'knn__weights':['uniform','distance'],\n",
    "    'knn__p':[1,2]\n",
    "}"
   ]
  },
  {
   "cell_type": "code",
   "execution_count": 30,
   "id": "904d9f4c",
   "metadata": {},
   "outputs": [
    {
     "name": "stdout",
     "output_type": "stream",
     "text": [
      "Fitting 3 folds for each of 10 candidates, totalling 30 fits\n"
     ]
    },
    {
     "name": "stderr",
     "output_type": "stream",
     "text": [
      "[Parallel(n_jobs=-1)]: Using backend LokyBackend with 8 concurrent workers.\n",
      "/Users/jeromeaubry/anaconda3/envs/exts-ml/lib/python3.6/site-packages/sklearn/externals/joblib/numpy_pickle.py:104: DeprecationWarning: tostring() is deprecated. Use tobytes() instead.\n",
      "  pickler.file_handle.write(chunk.tostring('C'))\n",
      "/Users/jeromeaubry/anaconda3/envs/exts-ml/lib/python3.6/site-packages/sklearn/externals/joblib/numpy_pickle.py:104: DeprecationWarning: tostring() is deprecated. Use tobytes() instead.\n",
      "  pickler.file_handle.write(chunk.tostring('C'))\n",
      "/Users/jeromeaubry/anaconda3/envs/exts-ml/lib/python3.6/site-packages/sklearn/externals/joblib/numpy_pickle.py:104: DeprecationWarning: tostring() is deprecated. Use tobytes() instead.\n",
      "  pickler.file_handle.write(chunk.tostring('C'))\n",
      "/Users/jeromeaubry/anaconda3/envs/exts-ml/lib/python3.6/site-packages/sklearn/externals/joblib/numpy_pickle.py:104: DeprecationWarning: tostring() is deprecated. Use tobytes() instead.\n",
      "  pickler.file_handle.write(chunk.tostring('C'))\n",
      "[Parallel(n_jobs=-1)]: Done   2 tasks      | elapsed: 16.8min\n",
      "[Parallel(n_jobs=-1)]: Done   9 tasks      | elapsed: 25.0min\n",
      "[Parallel(n_jobs=-1)]: Done  19 out of  30 | elapsed: 51.5min remaining: 29.8min\n",
      "[Parallel(n_jobs=-1)]: Done  23 out of  30 | elapsed: 62.0min remaining: 18.9min\n",
      "[Parallel(n_jobs=-1)]: Done  27 out of  30 | elapsed: 73.6min remaining:  8.2min\n",
      "[Parallel(n_jobs=-1)]: Done  30 out of  30 | elapsed: 74.0min finished\n"
     ]
    }
   ],
   "source": [
    "# Use GridSearchCV for optimization\n",
    "\n",
    "random_search_knn = RandomizedSearchCV(pipe_knn, grid_knn, cv=3, verbose=10, n_jobs=-1, refit='r2',  #Maximize r2\n",
    "                                    random_state=random_state, return_train_score=True, scoring=['neg_mean_squared_error', 'r2']) # Sort out r2 and MSE\n",
    "\n",
    "\n",
    "\n",
    "#grid_search_knn = GridSearchCV(pipe_knn, grid_knn, cv=3, verbose=10, n_jobs=-1, refit='r2',  #Maximize r2\n",
    "#                                 return_train_score=True, scoring=['neg_mean_squared_error', 'r2']) # optimize r2 and MSE\n",
    "\n",
    "#tuned_search_knn  = TuneSearchCV(pipe_knn, grid_knn, early_stopping=True, scoring=['neg_mean_squared_error', 'r2'], n_jobs=-1,\n",
    "#                                  refit='r2', cv=5, verbose=2, return_train_score=True, max_iters=3, search_optimization='random')\n",
    "                                 \n",
    "result_knn_grid = random_search_knn.fit(X_tr, y_tr)"
   ]
  },
  {
   "cell_type": "code",
   "execution_count": 31,
   "id": "1b8f4e1f",
   "metadata": {},
   "outputs": [
    {
     "name": "stdout",
     "output_type": "stream",
     "text": [
      "Best parameters: {'knn__weights': 'uniform', 'knn__p': 1, 'knn__n_neighbors': 41}\n",
      "--------------------------------------------------\n",
      "Best estimators: Pipeline(memory=None,\n",
      "     steps=[('scaler', StandardScaler(copy=True, with_mean=True, with_std=True)), ('knn', KNeighborsRegressor(algorithm='brute', leaf_size=30, metric='minkowski',\n",
      "          metric_params=None, n_jobs=None, n_neighbors=41, p=1,\n",
      "          weights='uniform'))])\n",
      "--------------------------------------------------\n",
      "Best score: 0.025721274016834585\n",
      "--------------------------------------------------\n"
     ]
    },
    {
     "data": {
      "text/plain": [
       "['knn__n_neighbors', 'knn__p', 'knn__weights']"
      ]
     },
     "execution_count": 31,
     "metadata": {},
     "output_type": "execute_result"
    }
   ],
   "source": [
    "# Sortout the best parameters\n",
    "params_knn = sortout_params(grid_knn, random_search_knn)\n",
    "params_knn"
   ]
  },
  {
   "cell_type": "code",
   "execution_count": 40,
   "id": "c1764000",
   "metadata": {},
   "outputs": [
    {
     "data": {
      "image/png": "[encoded data removed]",
      "text/plain": [
       "<Figure size 1152x432 with 2 Axes>"
      ]
     },
     "metadata": {},
     "output_type": "display_data"
    },
    {
     "name": "stderr",
     "output_type": "stream",
     "text": [
      "/Users/jeromeaubry/anaconda3/envs/exts-ml/lib/python3.6/site-packages/ipykernel_launcher.py:109: SettingWithCopyWarning: \n",
      "A value is trying to be set on a copy of a slice from a DataFrame.\n",
      "Try using .loc[row_indexer,col_indexer] = value instead\n",
      "\n",
      "See the caveats in the documentation: http://pandas.pydata.org/pandas-docs/stable/indexing.html#indexing-view-versus-copy\n"
     ]
    },
    {
     "data": {
      "text/html": [
       "<div>\n",
       "<style scoped>\n",
       "    .dataframe tbody tr th:only-of-type {\n",
       "        vertical-align: middle;\n",
       "    }\n",
       "\n",
       "    .dataframe tbody tr th {\n",
       "        vertical-align: top;\n",
       "    }\n",
       "\n",
       "    .dataframe thead th {\n",
       "        text-align: right;\n",
       "    }\n",
       "</style>\n",
       "<table border=\"1\" class=\"dataframe\">\n",
       "  <thead>\n",
       "    <tr style=\"text-align: right;\">\n",
       "      <th></th>\n",
       "      <th>param_knn__weights</th>\n",
       "      <th>param_knn__p</th>\n",
       "      <th>param_knn__n_neighbors</th>\n",
       "      <th>std_train_r2</th>\n",
       "      <th>mean_train_r2</th>\n",
       "      <th>std_validation_r2</th>\n",
       "      <th>mean_validation_r2</th>\n",
       "      <th>std_train_MSE</th>\n",
       "      <th>mean_train_MSE</th>\n",
       "      <th>std_validation_MSE</th>\n",
       "      <th>mean_validation_MSE</th>\n",
       "      <th>Model</th>\n",
       "    </tr>\n",
       "  </thead>\n",
       "  <tbody>\n",
       "    <tr>\n",
       "      <th>1</th>\n",
       "      <td>uniform</td>\n",
       "      <td>1</td>\n",
       "      <td>81</td>\n",
       "      <td>0.004243</td>\n",
       "      <td>0.045412</td>\n",
       "      <td>0.006127</td>\n",
       "      <td>0.021918</td>\n",
       "      <td>0.000284</td>\n",
       "      <td>0.003748</td>\n",
       "      <td>0.000585</td>\n",
       "      <td>0.003843</td>\n",
       "      <td>knn</td>\n",
       "    </tr>\n",
       "    <tr>\n",
       "      <th>3</th>\n",
       "      <td>uniform</td>\n",
       "      <td>2</td>\n",
       "      <td>81</td>\n",
       "      <td>0.003948</td>\n",
       "      <td>0.046904</td>\n",
       "      <td>0.005851</td>\n",
       "      <td>0.022592</td>\n",
       "      <td>0.000269</td>\n",
       "      <td>0.003741</td>\n",
       "      <td>0.000562</td>\n",
       "      <td>0.003837</td>\n",
       "      <td>knn</td>\n",
       "    </tr>\n",
       "  </tbody>\n",
       "</table>\n",
       "</div>"
      ],
      "text/plain": [
       "  param_knn__weights param_knn__p param_knn__n_neighbors  std_train_r2  \\\n",
       "1            uniform            1                     81      0.004243   \n",
       "3            uniform            2                     81      0.003948   \n",
       "\n",
       "   mean_train_r2  std_validation_r2  mean_validation_r2  std_train_MSE  \\\n",
       "1       0.045412           0.006127            0.021918       0.000284   \n",
       "3       0.046904           0.005851            0.022592       0.000269   \n",
       "\n",
       "   mean_train_MSE  std_validation_MSE  mean_validation_MSE Model  \n",
       "1        0.003748            0.000585             0.003843   knn  \n",
       "3        0.003741            0.000562             0.003837   knn  "
      ]
     },
     "execution_count": 40,
     "metadata": {},
     "output_type": "execute_result"
    }
   ],
   "source": [
    "result_knn = sortout_data(params_knn[0], grid_knn, random_search_knn, log=False)\n",
    "result_knn"
   ]
  },
  {
   "cell_type": "code",
   "execution_count": 33,
   "id": "bafb479d",
   "metadata": {},
   "outputs": [
    {
     "data": {
      "text/plain": [
       "0.03135167913201775"
      ]
     },
     "execution_count": 33,
     "metadata": {},
     "output_type": "execute_result"
    }
   ],
   "source": [
    "# Apply the results of the grid search to the test data\n",
    "knn_test_score = random_search_knn.score(X_te, y_te)\n",
    "knn_test_score"
   ]
  },
  {
   "cell_type": "code",
   "execution_count": 34,
   "id": "1418297a",
   "metadata": {},
   "outputs": [
    {
     "name": "stdout",
     "output_type": "stream",
     "text": [
      "The test_r2 for rf based on best parameter from grid search: 0.0314\n",
      "The test_MSE for rf  based on best parameter from grid search: 0.006411\n"
     ]
    }
   ],
   "source": [
    "# Apply the results of the optimized grid search to the test data\n",
    "#R2\n",
    "knn_test_score = random_search_knn.score(X_te, y_te)\n",
    "print('The test_r2 for rf based on best parameter from grid search: {:.4f}'.format(knn_test_score))\n",
    "\n",
    "#MSE\n",
    "y_pred_knn= result_knn_grid.predict(X_te)\n",
    "print('The test_MSE for rf  based on best parameter from grid search: {:.6f}'.format(MSE(y_pred_knn,y_te)))"
   ]
  },
  {
   "cell_type": "code",
   "execution_count": 35,
   "id": "b04d4292",
   "metadata": {},
   "outputs": [
    {
     "data": {
      "text/html": [
       "<div>\n",
       "<style scoped>\n",
       "    .dataframe tbody tr th:only-of-type {\n",
       "        vertical-align: middle;\n",
       "    }\n",
       "\n",
       "    .dataframe tbody tr th {\n",
       "        vertical-align: top;\n",
       "    }\n",
       "\n",
       "    .dataframe thead th {\n",
       "        text-align: right;\n",
       "    }\n",
       "</style>\n",
       "<table border=\"1\" class=\"dataframe\">\n",
       "  <thead>\n",
       "    <tr style=\"text-align: right;\">\n",
       "      <th></th>\n",
       "      <th>Model</th>\n",
       "      <th>mean_test_r2</th>\n",
       "      <th>mean_test_MSE</th>\n",
       "    </tr>\n",
       "  </thead>\n",
       "  <tbody>\n",
       "    <tr>\n",
       "      <th>0</th>\n",
       "      <td>knn</td>\n",
       "      <td>0.031352</td>\n",
       "      <td>0.006411</td>\n",
       "    </tr>\n",
       "  </tbody>\n",
       "</table>\n",
       "</div>"
      ],
      "text/plain": [
       "  Model  mean_test_r2  mean_test_MSE\n",
       "0   knn      0.031352       0.006411"
      ]
     },
     "execution_count": 35,
     "metadata": {},
     "output_type": "execute_result"
    }
   ],
   "source": [
    "results_knn_test = pd.DataFrame({'Model':'knn',\n",
    "                                   'mean_test_r2':[knn_test_score],\n",
    "                                   'mean_test_MSE':[MSE(y_pred_knn,y_te)]})\n",
    "results_knn_test"
   ]
  },
  {
   "cell_type": "code",
   "execution_count": 36,
   "id": "cfe8613d",
   "metadata": {},
   "outputs": [
    {
     "data": {
      "text/html": [
       "<div>\n",
       "<style scoped>\n",
       "    .dataframe tbody tr th:only-of-type {\n",
       "        vertical-align: middle;\n",
       "    }\n",
       "\n",
       "    .dataframe tbody tr th {\n",
       "        vertical-align: top;\n",
       "    }\n",
       "\n",
       "    .dataframe thead th {\n",
       "        text-align: right;\n",
       "    }\n",
       "</style>\n",
       "<table border=\"1\" class=\"dataframe\">\n",
       "  <thead>\n",
       "    <tr style=\"text-align: right;\">\n",
       "      <th></th>\n",
       "      <th>Model</th>\n",
       "      <th>param_knn__p</th>\n",
       "      <th>param_knn__weights</th>\n",
       "      <th>param_knn__n_neighbors</th>\n",
       "      <th>mean_train_r2</th>\n",
       "      <th>std_train_r2</th>\n",
       "      <th>mean_validation_r2</th>\n",
       "      <th>std_validation_r2</th>\n",
       "      <th>mean_test_r2</th>\n",
       "      <th>mean_train_MSE</th>\n",
       "      <th>std_train_MSE</th>\n",
       "      <th>mean_validation_MSE</th>\n",
       "      <th>std_validation_MSE</th>\n",
       "      <th>mean_test_MSE</th>\n",
       "    </tr>\n",
       "  </thead>\n",
       "  <tbody>\n",
       "    <tr>\n",
       "      <th>0</th>\n",
       "      <td>knn</td>\n",
       "      <td>1</td>\n",
       "      <td>uniform</td>\n",
       "      <td>81</td>\n",
       "      <td>0.045412</td>\n",
       "      <td>0.004243</td>\n",
       "      <td>0.021918</td>\n",
       "      <td>0.006127</td>\n",
       "      <td>0.031352</td>\n",
       "      <td>0.003748</td>\n",
       "      <td>0.000284</td>\n",
       "      <td>0.003843</td>\n",
       "      <td>0.000585</td>\n",
       "      <td>0.006411</td>\n",
       "    </tr>\n",
       "    <tr>\n",
       "      <th>1</th>\n",
       "      <td>knn</td>\n",
       "      <td>2</td>\n",
       "      <td>uniform</td>\n",
       "      <td>81</td>\n",
       "      <td>0.046904</td>\n",
       "      <td>0.003948</td>\n",
       "      <td>0.022592</td>\n",
       "      <td>0.005851</td>\n",
       "      <td>0.031352</td>\n",
       "      <td>0.003741</td>\n",
       "      <td>0.000269</td>\n",
       "      <td>0.003837</td>\n",
       "      <td>0.000562</td>\n",
       "      <td>0.006411</td>\n",
       "    </tr>\n",
       "  </tbody>\n",
       "</table>\n",
       "</div>"
      ],
      "text/plain": [
       "  Model param_knn__p param_knn__weights param_knn__n_neighbors  mean_train_r2  \\\n",
       "0   knn            1            uniform                     81       0.045412   \n",
       "1   knn            2            uniform                     81       0.046904   \n",
       "\n",
       "   std_train_r2  mean_validation_r2  std_validation_r2  mean_test_r2  \\\n",
       "0      0.004243            0.021918           0.006127      0.031352   \n",
       "1      0.003948            0.022592           0.005851      0.031352   \n",
       "\n",
       "   mean_train_MSE  std_train_MSE  mean_validation_MSE  std_validation_MSE  \\\n",
       "0        0.003748       0.000284             0.003843            0.000585   \n",
       "1        0.003741       0.000269             0.003837            0.000562   \n",
       "\n",
       "   mean_test_MSE  \n",
       "0       0.006411  \n",
       "1       0.006411  "
      ]
     },
     "execution_count": 36,
     "metadata": {},
     "output_type": "execute_result"
    }
   ],
   "source": [
    "results_knn = result_knn.merge(results_knn_test,how='left', left_on='Model', right_on='Model')\n",
    "\n",
    "cols=  ['Model', 'param_knn__p', 'param_knn__weights', 'param_knn__n_neighbors', 'mean_train_r2', 'std_train_r2','mean_validation_r2','std_validation_r2',\n",
    "        'mean_test_r2','mean_train_MSE','std_train_MSE','mean_validation_MSE', 'std_validation_MSE', 'mean_test_MSE']\n",
    "results_knn = results_knn[cols]\n",
    "results_knn"
   ]
  },
  {
   "cell_type": "markdown",
   "id": "927f4296",
   "metadata": {},
   "source": [
    "> **Remarks**:\n",
    "<br> - knn display results that whatever the train data looks like the validation doesn't learn anything from the model, like a very high bias results. The results are purely artefact and the knn approach is not suitable for the present data as facing too many 0s with big outliers, the algorithmn is maybe not capable of detecting the closest neighbor and failed to predict anything relevant."
   ]
  },
  {
   "cell_type": "markdown",
   "id": "d3f6ca34",
   "metadata": {},
   "source": [
    "### 3.14 Save Results"
   ]
  },
  {
   "cell_type": "code",
   "execution_count": 37,
   "id": "e4dcd435",
   "metadata": {},
   "outputs": [],
   "source": [
    "# Save Knn Results\n",
    "results_knn.to_csv('knn_option3_EDA_1.csv', encoding='utf-8', float_format='%.4f', index=False)"
   ]
  }
 ],
 "metadata": {
  "kernelspec": {
   "display_name": "Python 3",
   "language": "python",
   "name": "python3"
  },
  "language_info": {
   "codemirror_mode": {
    "name": "ipython",
    "version": 3
   },
   "file_extension": ".py",
   "mimetype": "text/x-python",
   "name": "python",
   "nbconvert_exporter": "python",
   "pygments_lexer": "ipython3",
   "version": "3.6.13"
  }
 },
 "nbformat": 4,
 "nbformat_minor": 5
}
